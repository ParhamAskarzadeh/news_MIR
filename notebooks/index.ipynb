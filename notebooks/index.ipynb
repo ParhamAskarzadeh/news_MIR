{
 "cells": [
  {
   "cell_type": "markdown",
   "metadata": {
    "id": "EpxF0KVWj2KX"
   },
   "source": [
    "<center>به نام خدا</center>\n",
    "<br>\n",
    "<center> درس بازیابی پیشرفته اطلاعات - بهار ۱۴۰۰ - ۱۴۰۱ </center>\n",
    "<br>\n",
    "<center>تمرین سوم</center>"
   ]
  },
  {
   "cell_type": "code",
   "execution_count": null,
   "metadata": {
    "colab": {
     "base_uri": "https://localhost:8080/"
    },
    "executionInfo": {
     "elapsed": 32006,
     "status": "ok",
     "timestamp": 1658847036835,
     "user": {
      "displayName": "Mohammad Cheraghi",
      "userId": "07187142478069859814"
     },
     "user_tz": -270
    },
    "id": "InI_z2l0ipdG",
    "outputId": "d5672031-f542-4c4a-c539-73cbfa74fed5"
   },
   "outputs": [
    {
     "name": "stdout",
     "output_type": "stream",
     "text": [
      "Mounted at /content/drive\n",
      "/content/drive/My Drive/MIRNews1401\n"
     ]
    }
   ],
   "source": [
    "# from google.colab import drive\n",
    "# drive.mount('/content/drive')\n",
    "\n",
    "# address = \"MIRNews1401\"\n",
    "# import sys\n",
    "# sys.path.append('/content/drive/My Drive/{}'.format(address))\n",
    "# %cd /content/drive/My\\ Drive/$address"
   ]
  },
  {
   "cell_type": "code",
   "execution_count": null,
   "metadata": {
    "colab": {
     "base_uri": "https://localhost:8080/"
    },
    "executionInfo": {
     "elapsed": 14743,
     "status": "ok",
     "timestamp": 1658847055844,
     "user": {
      "displayName": "Mohammad Cheraghi",
      "userId": "07187142478069859814"
     },
     "user_tz": -270
    },
    "id": "4TIrhAjIfLLV",
    "outputId": "a7200b7e-70e6-41c1-9d26-7ef586adad36"
   },
   "outputs": [
    {
     "name": "stdout",
     "output_type": "stream",
     "text": [
      "Looking in indexes: https://pypi.org/simple, https://us-python.pkg.dev/colab-wheels/public/simple/\n",
      "Collecting hazm\n",
      "  Downloading hazm-0.7.0-py3-none-any.whl (316 kB)\n",
      "\u001b[K     |████████████████████████████████| 316 kB 5.0 MB/s \n",
      "\u001b[?25hCollecting libwapiti>=0.2.1\n",
      "  Downloading libwapiti-0.2.1.tar.gz (233 kB)\n",
      "\u001b[K     |████████████████████████████████| 233 kB 55.7 MB/s \n",
      "\u001b[?25hCollecting nltk==3.3\n",
      "  Downloading nltk-3.3.0.zip (1.4 MB)\n",
      "\u001b[K     |████████████████████████████████| 1.4 MB 45.1 MB/s \n",
      "\u001b[?25hRequirement already satisfied: six in /usr/local/lib/python3.7/dist-packages (from nltk==3.3->hazm) (1.15.0)\n",
      "Building wheels for collected packages: nltk, libwapiti\n",
      "  Building wheel for nltk (setup.py) ... \u001b[?25l\u001b[?25hdone\n",
      "  Created wheel for nltk: filename=nltk-3.3-py3-none-any.whl size=1394488 sha256=21d3efbfd2a5400c285ade46bddbe6d21def4baa947e0b219aab4b9772e5bf21\n",
      "  Stored in directory: /root/.cache/pip/wheels/9b/fd/0c/d92302c876e5de87ebd7fc0979d82edb93e2d8d768bf71fac4\n",
      "  Building wheel for libwapiti (setup.py) ... \u001b[?25l\u001b[?25hdone\n",
      "  Created wheel for libwapiti: filename=libwapiti-0.2.1-cp37-cp37m-linux_x86_64.whl size=154128 sha256=ada42d676cdf9b64de8763309fb83107d2483135e13461039826c96be54c0d76\n",
      "  Stored in directory: /root/.cache/pip/wheels/ab/b2/5b/0fe4b8f5c0e65341e8ea7bb3f4a6ebabfe8b1ac31322392dbf\n",
      "Successfully built nltk libwapiti\n",
      "Installing collected packages: nltk, libwapiti, hazm\n",
      "  Attempting uninstall: nltk\n",
      "    Found existing installation: nltk 3.7\n",
      "    Uninstalling nltk-3.7:\n",
      "      Successfully uninstalled nltk-3.7\n",
      "Successfully installed hazm-0.7.0 libwapiti-0.2.1 nltk-3.3\n"
     ]
    }
   ],
   "source": [
    "!pip install hazm"
   ]
  },
  {
   "cell_type": "code",
   "execution_count": null,
   "metadata": {
    "id": "qCzGZUpOhmKa"
   },
   "outputs": [],
   "source": [
    "import json\n",
    "import math\n",
    "from tqdm import tqdm\n",
    "from hazm import *\n",
    "import numpy as np\n",
    "import pandas as pd\n",
    "from collections import Counter\n",
    "import numexpr as ne"
   ]
  },
  {
   "cell_type": "markdown",
   "metadata": {
    "id": "PEepdTRzaJJO"
   },
   "source": [
    "# 1 preprocessing"
   ]
  },
  {
   "cell_type": "code",
   "execution_count": null,
   "metadata": {
    "id": "5068gq5ihmKc"
   },
   "outputs": [],
   "source": [
    "# dictData = {}\n",
    "# with open(\"news_all_text.json\", encoding=\"utf8\") as d:\n",
    "#     dictData = json.load(d)"
   ]
  },
  {
   "cell_type": "code",
   "execution_count": null,
   "metadata": {
    "colab": {
     "base_uri": "https://localhost:8080/"
    },
    "executionInfo": {
     "elapsed": 8,
     "status": "ok",
     "timestamp": 1658822025595,
     "user": {
      "displayName": "Mohammad Cheraghi",
      "userId": "07187142478069859814"
     },
     "user_tz": -270
    },
    "id": "hDpxRQrGhmKd",
    "outputId": "ccf98559-e342-4976-d40e-493d88c446e9"
   },
   "outputs": [
    {
     "data": {
      "text/plain": [
       "dict_keys(['@timestamp', 'categories', 'id', 'title', 'content', 'url', 'tags'])"
      ]
     },
     "execution_count": 14,
     "metadata": {},
     "output_type": "execute_result"
    }
   ],
   "source": [
    "# dictData[0].keys()"
   ]
  },
  {
   "cell_type": "code",
   "execution_count": null,
   "metadata": {
    "id": "RoobfLq3DTAt"
   },
   "outputs": [],
   "source": [
    "stop_words = stopwords_list()\n",
    "normalizer = Normalizer()\n",
    "lemmatizer = Lemmatizer()\n",
    "\n",
    "def preprocess_text(document):\n",
    "        document = normalizer.normalize(document)\n",
    "        \n",
    "        tokens = word_tokenize(document)\n",
    "        tokens = [lemmatizer.lemmatize(word) for word in tokens]\n",
    "        tokens = [word for word in tokens if word not in stop_words]\n",
    "        tokens = [word for word in tokens if len(word) > 2]\n",
    "\n",
    "        preprocessed_text = ' '.join(tokens)\n",
    "\n",
    "        return preprocessed_text"
   ]
  },
  {
   "cell_type": "code",
   "execution_count": null,
   "metadata": {
    "id": "FO5ewdxShmKf"
   },
   "outputs": [],
   "source": [
    "# news_list = []\n",
    "# news_details = []"
   ]
  },
  {
   "cell_type": "code",
   "execution_count": null,
   "metadata": {
    "colab": {
     "base_uri": "https://localhost:8080/"
    },
    "executionInfo": {
     "elapsed": 18365,
     "status": "ok",
     "timestamp": 1658847496534,
     "user": {
      "displayName": "Mohammad Cheraghi",
      "userId": "07187142478069859814"
     },
     "user_tz": -270
    },
    "id": "z19xZIS2sPhY",
    "outputId": "23718d1a-0ec8-4b24-e570-89afa5191b1e"
   },
   "outputs": [
    {
     "name": "stderr",
     "output_type": "stream",
     "text": [
      "100%|██████████| 5000/5000 [00:18<00:00, 275.93it/s]\n"
     ]
    }
   ],
   "source": [
    "# news_list.clear()\n",
    "# news_details.clear()\n",
    "# for new in tqdm(dictData):\n",
    "#     changed_text = preprocess_text(new['content'])\n",
    "#     news_list.append(changed_text)\n",
    "#     news_details.append({'url':new['url'], 'id': new['id'], 'title': new['title']})"
   ]
  },
  {
   "cell_type": "code",
   "execution_count": null,
   "metadata": {
    "colab": {
     "base_uri": "https://localhost:8080/"
    },
    "executionInfo": {
     "elapsed": 4,
     "status": "ok",
     "timestamp": 1658822087922,
     "user": {
      "displayName": "Mohammad Cheraghi",
      "userId": "07187142478069859814"
     },
     "user_tz": -270
    },
    "id": "UNcLIOJvhmKh",
    "outputId": "c1978d54-afff-4f6d-8c18-4dee7c59542e"
   },
   "outputs": [
    {
     "data": {
      "text/plain": [
       "5000"
      ]
     },
     "execution_count": 20,
     "metadata": {},
     "output_type": "execute_result"
    }
   ],
   "source": [
    "# len(news_list)"
   ]
  },
  {
   "cell_type": "code",
   "execution_count": null,
   "metadata": {
    "id": "e5uOs78cnHqJ"
   },
   "outputs": [],
   "source": [
    "# np.save(\"./data/news_details\", news_details)"
   ]
  },
  {
   "cell_type": "code",
   "execution_count": null,
   "metadata": {
    "id": "bGZ_E9LEnaQU"
   },
   "outputs": [],
   "source": [
    "news_details = np.load(\"./data/news_details.npy\", allow_pickle=True)"
   ]
  },
  {
   "cell_type": "markdown",
   "metadata": {
    "id": "xK5o33A5srbL"
   },
   "source": [
    "# 2. Retrieval "
   ]
  },
  {
   "cell_type": "markdown",
   "metadata": {
    "id": "NtSckp3LvF4M"
   },
   "source": [
    "<div dir=rtl>\n",
    "در بخش‌های زیر، به شکل مجزا، یک سیستم بازیابی را پیاده‌سازی می‌کنیم.\n",
    "</div>"
   ]
  },
  {
   "cell_type": "markdown",
   "metadata": {
    "id": "IcAa_nHAH7g5"
   },
   "source": [
    "# 2.1 Boolean Retrieval"
   ]
  },
  {
   "cell_type": "markdown",
   "metadata": {
    "id": "RKhZKWNFwCQ8"
   },
   "source": [
    "<div dir=rtl>\n",
    "در این قسمت بازیابی بولین را انجام می‌دهیم. البته برای کسب نتیجه بهتر، از فرکانس نیز استفاده کرده‌ایم و در زمان‌های برابری، معیار فرکانس را نیز در نظر گرفتیم.\n",
    "</div>"
   ]
  },
  {
   "cell_type": "code",
   "execution_count": null,
   "metadata": {
    "id": "r4jDaNzwIEIq"
   },
   "outputs": [],
   "source": [
    "'''\n",
    "list_all_unique_tokens()\n",
    "This function gets a list of rm strings as input and outputs a list of unique \n",
    "tokens extracted from them.\n",
    "input: a list of rm strings\n",
    "output:\n",
    "     1. a list of unique tokens (in a set) in each document\n",
    "     2. a list of all unique tokens\n",
    "'''\n",
    "\n",
    "\n",
    "def list_all_unique_tokens(rm_strings_list):\n",
    "\n",
    "    # tokenize every string \n",
    "    list_of_lists = [word_tokenize(rm_string) for rm_string in tqdm(rm_strings_list)]\n",
    "\n",
    "    # convert every list to a set (remove duplicate values)\n",
    "    list_of_sets = [set(item) for item in tqdm(list_of_lists)]\n",
    "\n",
    "    # full union (set of all unique tokens)\n",
    "    unique_list = list(set.union(*list_of_sets))\n",
    "\n",
    "    # return\n",
    "    return list_of_lists, list_of_sets, unique_list\n"
   ]
  },
  {
   "cell_type": "code",
   "execution_count": null,
   "metadata": {
    "colab": {
     "base_uri": "https://localhost:8080/"
    },
    "executionInfo": {
     "elapsed": 3185,
     "status": "ok",
     "timestamp": 1658822126519,
     "user": {
      "displayName": "Mohammad Cheraghi",
      "userId": "07187142478069859814"
     },
     "user_tz": -270
    },
    "id": "7Wbsx464NJRY",
    "outputId": "c93eb210-769a-4d24-f92d-f127abf8828e"
   },
   "outputs": [
    {
     "name": "stderr",
     "output_type": "stream",
     "text": [
      "100%|██████████| 5000/5000 [00:00<00:00, 5101.31it/s]\n",
      "100%|██████████| 5000/5000 [00:00<00:00, 44497.37it/s]\n"
     ]
    }
   ],
   "source": [
    "# list_of_token_lists, list_of_token_sets, unique_token_list = list_all_unique_tokens(news_list)"
   ]
  },
  {
   "cell_type": "markdown",
   "metadata": {
    "id": "fDTF2-Rgwdl2"
   },
   "source": [
    "<div dir=rtl>\n",
    "در بخش زیر ماتریس‌های فرکانس و بولین ایجاد شده‌اند. همان Term-doc matrix\n",
    "</div>"
   ]
  },
  {
   "cell_type": "code",
   "execution_count": null,
   "metadata": {
    "colab": {
     "base_uri": "https://localhost:8080/"
    },
    "executionInfo": {
     "elapsed": 192343,
     "status": "ok",
     "timestamp": 1658822411839,
     "user": {
      "displayName": "Mohammad Cheraghi",
      "userId": "07187142478069859814"
     },
     "user_tz": -270
    },
    "id": "KDrrjB6XYclP",
    "outputId": "2abc52a7-461b-48af-d8b9-c3f8fe6b1903"
   },
   "outputs": [
    {
     "name": "stderr",
     "output_type": "stream",
     "text": [
      "100%|██████████| 5000/5000 [03:10<00:00, 26.25it/s]\n"
     ]
    }
   ],
   "source": [
    "# # Initialize Frequency Matrix\n",
    "# frequency_matrix = np.empty([len(unique_token_list), len(news_list)])\n",
    "# frequency_matrix.fill(0)\n",
    "\n",
    "# # Fill Frequency matrix\n",
    "# for col in tqdm(range(np.shape(frequency_matrix)[1])):\n",
    "#     occurence_counter = Counter(list_of_token_lists[col])\n",
    "#     for row in range(np.shape(frequency_matrix)[0]):\n",
    "#         frequency_matrix[row, col] = occurence_counter[unique_token_list[row]]"
   ]
  },
  {
   "cell_type": "code",
   "execution_count": null,
   "metadata": {
    "id": "SbUGEu-QhmKo"
   },
   "outputs": [],
   "source": [
    "# np.save(\"./data/boolean_frequency_matrix\", frequency_matrix)\n",
    "# np.save(\"./data/boolean_unique_token_list\", unique_token_list)"
   ]
  },
  {
   "cell_type": "code",
   "execution_count": null,
   "metadata": {
    "id": "4PdC1sq0hmKo"
   },
   "outputs": [],
   "source": [
    "frequency_matrix = np.load(\"./data/boolean_frequency_matrix.npy\")\n",
    "unique_token_list = np.load(\"./data/boolean_unique_token_list.npy\")"
   ]
  },
  {
   "cell_type": "code",
   "execution_count": null,
   "metadata": {
    "id": "TSNvfNttmQD-"
   },
   "outputs": [],
   "source": [
    "# Convert to DataFrame\n",
    "frequency_matrix_df = pd.DataFrame(data = frequency_matrix, \n",
    "                                   index = unique_token_list, \n",
    "                                   columns = list(range(frequency_matrix.shape[1])))\n",
    "\n",
    "boolean_matrix = frequency_matrix.copy()\n",
    "boolean_matrix[boolean_matrix > 0] = 1\n",
    "\n",
    "# Convert to DataFrame\n",
    "boolean_matrix_df = pd.DataFrame(data = boolean_matrix, \n",
    "                                 index = unique_token_list, \n",
    "                                 columns = list(range(frequency_matrix.shape[1])))"
   ]
  },
  {
   "cell_type": "code",
   "execution_count": null,
   "metadata": {
    "id": "0g1M0DpQhmKp"
   },
   "outputs": [],
   "source": [
    "# Convert to DataFrame\n",
    "frequency_matrix_df = pd.DataFrame(data = frequency_matrix, \n",
    "                                   index = unique_token_list, \n",
    "                                   columns = list(range(frequency_matrix.shape[1])))\n",
    "\n",
    "boolean_matrix = frequency_matrix.copy()\n",
    "boolean_matrix[boolean_matrix > 0] = 1\n",
    "\n",
    "# Convert to DataFrame\n",
    "boolean_matrix_df = pd.DataFrame(data = boolean_matrix, \n",
    "                                 index = unique_token_list, \n",
    "                                 columns = list(range(frequency_matrix.shape[1])))"
   ]
  },
  {
   "cell_type": "code",
   "execution_count": null,
   "metadata": {
    "colab": {
     "base_uri": "https://localhost:8080/"
    },
    "executionInfo": {
     "elapsed": 450,
     "status": "ok",
     "timestamp": 1658830084785,
     "user": {
      "displayName": "Mohammad Cheraghi",
      "userId": "07187142478069859814"
     },
     "user_tz": -270
    },
    "id": "gJmPhfP9sRTd",
    "outputId": "8b4987a0-5489-437d-8b9e-7b84ba5cd86c"
   },
   "outputs": [
    {
     "data": {
      "text/plain": [
       "(29697, 5000)"
      ]
     },
     "execution_count": 126,
     "metadata": {},
     "output_type": "execute_result"
    }
   ],
   "source": [
    "# boolean_matrix_df.shape"
   ]
  },
  {
   "cell_type": "markdown",
   "metadata": {
    "id": "xBzltqQ0xiDC"
   },
   "source": [
    "<div dir=rtl>\n",
    "قسمت اصلی این بخش، تابع زیر است. که با دریافت ماتریس‌های بولین و فرکانس، نزدیک‌ترین نتایج یک کوئری را برگشت می‌هد.\n",
    "</div>"
   ]
  },
  {
   "cell_type": "code",
   "execution_count": null,
   "metadata": {
    "id": "m-McfxCZLqaT"
   },
   "outputs": [],
   "source": [
    "\n",
    "'''\n",
    "boolean_retrieval()\n",
    "This function takes a query as input and returns a list of indices of documents as output\n",
    "A Query consists of two parts:\n",
    "    1. A simple string of words\n",
    "    2. A list of words not to be included in the output documents (This part is optional)\n",
    "'''\n",
    "\n",
    "\n",
    "def boolean_retrieval(boolean_matrix_df, frequency_matrix_df, k, query_string, not_raw_tokens=[]):\n",
    "\n",
    "    # get all query tokens\n",
    "    query_raw_tokens = word_tokenize(query_string)\n",
    "\n",
    "    # remove stop words\n",
    "    query_tokens = [lemmatizer.lemmatize(token) for token in query_raw_tokens if token not in stop_words]\n",
    "\n",
    "    # remove stop words from not_tokens\n",
    "    not_tokens = [lemmatizer.lemmatize(token) for token in not_raw_tokens if token not in stop_words]\n",
    "\n",
    "    # get all unique tokens which are already in our readmes \n",
    "    unique_tokens = boolean_matrix_df.index.values.tolist()\n",
    "\n",
    "    # available tokens in query\n",
    "    available_query_tokens = [token for token in query_tokens if token in unique_tokens]\n",
    "\n",
    "    # only choose specific rows of df which correspond to query tokens\n",
    "    summary_df = boolean_matrix_df.loc[available_query_tokens]\n",
    "    summary_frequency_df = frequency_matrix_df.loc[available_query_tokens]\n",
    "\n",
    "    # available tokens in not_tokens\n",
    "    available_not_tokens = [token for token in not_tokens if token in unique_tokens]\n",
    "\n",
    "    # df consisting of only available_not_tokens\n",
    "    summary_not_df = boolean_matrix_df.loc[available_not_tokens]\n",
    "    arr = summary_not_df.values\n",
    "    summary_not_df = pd.DataFrame(ne.evaluate('1 - arr'), columns=summary_not_df.columns, index=summary_not_df.index)\n",
    "    summary_not_frequency_df = frequency_matrix_df.loc[available_not_tokens]\n",
    "    arr = summary_not_frequency_df.values\n",
    "    summary_not_frequency_df = pd.DataFrame(ne.evaluate('0 - arr'), columns=summary_not_frequency_df.columns, index=summary_not_df.index)\n",
    "\n",
    "    # specify boolean rating\n",
    "    rating_1 = summary_df.sum().tolist()\n",
    "    rating_2 = summary_not_df.sum().tolist()\n",
    "    boolean_rating = [x + y for x, y in zip(rating_1, rating_2)]\n",
    "\n",
    "    # specify frequency rating\n",
    "    rating_1 = summary_frequency_df.sum().tolist()\n",
    "    rating_2 = summary_not_frequency_df.sum().tolist()\n",
    "    frequency_rating = [x + y for x, y in zip(rating_1, rating_2)]\n",
    "\n",
    "    # sort indices based on ratings\n",
    "    raw_indices = list(range(len(boolean_matrix_df.columns)))\n",
    "    list_of_tuples = [(bool_item, freq_item) for bool_item, freq_item in zip(boolean_rating, frequency_rating)]\n",
    "    zipped = zip(list_of_tuples, raw_indices)\n",
    "    sorted_indices = [item for _, item in sorted(zipped, key=lambda pair: pair[0], reverse=True)]\n",
    "    \n",
    "    return sorted_indices[:k]"
   ]
  },
  {
   "cell_type": "markdown",
   "metadata": {
    "id": "pQKqjlbTVk7k"
   },
   "source": [
    "# 2.2 transformer"
   ]
  },
  {
   "cell_type": "markdown",
   "metadata": {
    "id": "GqrP7PMyx_Bl"
   },
   "source": [
    "<div dir=rtl>\n",
    "در این بخش با استفاده از ترنسفورمرها بازیابی را انجام داده‌ایم. به طور خاص از sentence transformer\n",
    "استفاده کرده‌ایم. توجه کنید که این یک مدل trainشده است.\n",
    "</div>"
   ]
  },
  {
   "cell_type": "code",
   "execution_count": null,
   "metadata": {
    "colab": {
     "base_uri": "https://localhost:8080/"
    },
    "executionInfo": {
     "elapsed": 11971,
     "status": "ok",
     "timestamp": 1658847138128,
     "user": {
      "displayName": "Mohammad Cheraghi",
      "userId": "07187142478069859814"
     },
     "user_tz": -270
    },
    "id": "mRzP1vkI6A4p",
    "outputId": "da63ff1d-e45b-4b6d-f49f-5d984baa95af"
   },
   "outputs": [
    {
     "name": "stdout",
     "output_type": "stream",
     "text": [
      "Looking in indexes: https://pypi.org/simple, https://us-python.pkg.dev/colab-wheels/public/simple/\n",
      "Collecting sentence_transformers\n",
      "  Downloading sentence-transformers-2.2.2.tar.gz (85 kB)\n",
      "\u001b[K     |████████████████████████████████| 85 kB 2.9 MB/s \n",
      "\u001b[?25hCollecting transformers<5.0.0,>=4.6.0\n",
      "  Downloading transformers-4.20.1-py3-none-any.whl (4.4 MB)\n",
      "\u001b[K     |████████████████████████████████| 4.4 MB 32.4 MB/s \n",
      "\u001b[?25hRequirement already satisfied: tqdm in /usr/local/lib/python3.7/dist-packages (from sentence_transformers) (4.64.0)\n",
      "Requirement already satisfied: torch>=1.6.0 in /usr/local/lib/python3.7/dist-packages (from sentence_transformers) (1.12.0+cu113)\n",
      "Requirement already satisfied: torchvision in /usr/local/lib/python3.7/dist-packages (from sentence_transformers) (0.13.0+cu113)\n",
      "Requirement already satisfied: numpy in /usr/local/lib/python3.7/dist-packages (from sentence_transformers) (1.21.6)\n",
      "Requirement already satisfied: scikit-learn in /usr/local/lib/python3.7/dist-packages (from sentence_transformers) (1.0.2)\n",
      "Requirement already satisfied: scipy in /usr/local/lib/python3.7/dist-packages (from sentence_transformers) (1.7.3)\n",
      "Requirement already satisfied: nltk in /usr/local/lib/python3.7/dist-packages (from sentence_transformers) (3.3)\n",
      "Collecting sentencepiece\n",
      "  Downloading sentencepiece-0.1.96-cp37-cp37m-manylinux_2_17_x86_64.manylinux2014_x86_64.whl (1.2 MB)\n",
      "\u001b[K     |████████████████████████████████| 1.2 MB 65.9 MB/s \n",
      "\u001b[?25hCollecting huggingface-hub>=0.4.0\n",
      "  Downloading huggingface_hub-0.8.1-py3-none-any.whl (101 kB)\n",
      "\u001b[K     |████████████████████████████████| 101 kB 9.9 MB/s \n",
      "\u001b[?25hRequirement already satisfied: filelock in /usr/local/lib/python3.7/dist-packages (from huggingface-hub>=0.4.0->sentence_transformers) (3.7.1)\n",
      "Collecting pyyaml>=5.1\n",
      "  Downloading PyYAML-6.0-cp37-cp37m-manylinux_2_5_x86_64.manylinux1_x86_64.manylinux_2_12_x86_64.manylinux2010_x86_64.whl (596 kB)\n",
      "\u001b[K     |████████████████████████████████| 596 kB 55.0 MB/s \n",
      "\u001b[?25hRequirement already satisfied: requests in /usr/local/lib/python3.7/dist-packages (from huggingface-hub>=0.4.0->sentence_transformers) (2.23.0)\n",
      "Requirement already satisfied: packaging>=20.9 in /usr/local/lib/python3.7/dist-packages (from huggingface-hub>=0.4.0->sentence_transformers) (21.3)\n",
      "Requirement already satisfied: importlib-metadata in /usr/local/lib/python3.7/dist-packages (from huggingface-hub>=0.4.0->sentence_transformers) (4.12.0)\n",
      "Requirement already satisfied: typing-extensions>=3.7.4.3 in /usr/local/lib/python3.7/dist-packages (from huggingface-hub>=0.4.0->sentence_transformers) (4.1.1)\n",
      "Requirement already satisfied: pyparsing!=3.0.5,>=2.0.2 in /usr/local/lib/python3.7/dist-packages (from packaging>=20.9->huggingface-hub>=0.4.0->sentence_transformers) (3.0.9)\n",
      "Requirement already satisfied: regex!=2019.12.17 in /usr/local/lib/python3.7/dist-packages (from transformers<5.0.0,>=4.6.0->sentence_transformers) (2022.6.2)\n",
      "Collecting tokenizers!=0.11.3,<0.13,>=0.11.1\n",
      "  Downloading tokenizers-0.12.1-cp37-cp37m-manylinux_2_12_x86_64.manylinux2010_x86_64.whl (6.6 MB)\n",
      "\u001b[K     |████████████████████████████████| 6.6 MB 44.9 MB/s \n",
      "\u001b[?25hRequirement already satisfied: zipp>=0.5 in /usr/local/lib/python3.7/dist-packages (from importlib-metadata->huggingface-hub>=0.4.0->sentence_transformers) (3.8.1)\n",
      "Requirement already satisfied: six in /usr/local/lib/python3.7/dist-packages (from nltk->sentence_transformers) (1.15.0)\n",
      "Requirement already satisfied: idna<3,>=2.5 in /usr/local/lib/python3.7/dist-packages (from requests->huggingface-hub>=0.4.0->sentence_transformers) (2.10)\n",
      "Requirement already satisfied: chardet<4,>=3.0.2 in /usr/local/lib/python3.7/dist-packages (from requests->huggingface-hub>=0.4.0->sentence_transformers) (3.0.4)\n",
      "Requirement already satisfied: certifi>=2017.4.17 in /usr/local/lib/python3.7/dist-packages (from requests->huggingface-hub>=0.4.0->sentence_transformers) (2022.6.15)\n",
      "Requirement already satisfied: urllib3!=1.25.0,!=1.25.1,<1.26,>=1.21.1 in /usr/local/lib/python3.7/dist-packages (from requests->huggingface-hub>=0.4.0->sentence_transformers) (1.24.3)\n",
      "Requirement already satisfied: threadpoolctl>=2.0.0 in /usr/local/lib/python3.7/dist-packages (from scikit-learn->sentence_transformers) (3.1.0)\n",
      "Requirement already satisfied: joblib>=0.11 in /usr/local/lib/python3.7/dist-packages (from scikit-learn->sentence_transformers) (1.1.0)\n",
      "Requirement already satisfied: pillow!=8.3.*,>=5.3.0 in /usr/local/lib/python3.7/dist-packages (from torchvision->sentence_transformers) (7.1.2)\n",
      "Building wheels for collected packages: sentence-transformers\n",
      "  Building wheel for sentence-transformers (setup.py) ... \u001b[?25l\u001b[?25hdone\n",
      "  Created wheel for sentence-transformers: filename=sentence_transformers-2.2.2-py3-none-any.whl size=125938 sha256=a59ac0d1958a2f0a316f162825dcbbd7ed98876b1b2dec33f96d9fa313324daf\n",
      "  Stored in directory: /root/.cache/pip/wheels/bf/06/fb/d59c1e5bd1dac7f6cf61ec0036cc3a10ab8fecaa6b2c3d3ee9\n",
      "Successfully built sentence-transformers\n",
      "Installing collected packages: pyyaml, tokenizers, huggingface-hub, transformers, sentencepiece, sentence-transformers\n",
      "  Attempting uninstall: pyyaml\n",
      "    Found existing installation: PyYAML 3.13\n",
      "    Uninstalling PyYAML-3.13:\n",
      "      Successfully uninstalled PyYAML-3.13\n",
      "Successfully installed huggingface-hub-0.8.1 pyyaml-6.0 sentence-transformers-2.2.2 sentencepiece-0.1.96 tokenizers-0.12.1 transformers-4.20.1\n"
     ]
    }
   ],
   "source": [
    "!pip install sentence_transformers"
   ]
  },
  {
   "cell_type": "code",
   "execution_count": null,
   "metadata": {
    "id": "wBVCvJynhmKr"
   },
   "outputs": [],
   "source": [
    "from sentence_transformers import util, SentenceTransformer"
   ]
  },
  {
   "cell_type": "code",
   "execution_count": null,
   "metadata": {
    "colab": {
     "base_uri": "https://localhost:8080/",
     "height": 310,
     "referenced_widgets": [
      "554a6f298e4c41348dbc9623cd72ec78",
      "4c169a7c14294fcfb5a3979c80c298e2",
      "cec1bc054a3d47a48c0629c389937bdb",
      "e783c3c22b4f400593ef614680ce4ed3",
      "6847607ecb624409b90e7064da959a98",
      "ddc03b319dd9494cbfb5fe5f3f128b67",
      "a2c7c620772d4088879e213217446d78",
      "3a0eb412db3b45aba95ae668adf074ca",
      "7ee998212d924d298c535c287eb37fe7",
      "cf5b26d1948848d6874961077b2f1e51",
      "33e38346ab8a4f39afceae2c89212809",
      "fa05824cceea45f78dc938cddb5d16cb",
      "161c16db8067412bbe90dbeb1c9a1bce",
      "4d6cc33ba2a94b5e8609381dc5dd4f88",
      "221241a2d21941aa958ea1a6e986fec1",
      "4fb3b5eae7284437a9f028f571a06b86",
      "569223b7e6fb47fca24e41d195cbfb8f",
      "6f1f867db1734cfca2f0bba99bbf5631",
      "b6d9c545bbed42e4980a6e929ea94471",
      "de5ab2afac0142e5bed7350c7ef5a9fa",
      "6dd1f18612ba45aeabbfd8be918e7612",
      "35197af0ff724999afe54aaa056e810a",
      "60a7fb2dc5a24deea55d00ed41891b6e",
      "b06f60e6814245d2afe62d59d29b7014",
      "8d2d85318ba14c03a8dd794373db7a1c",
      "edf4b43534f442c398cee1ed7ec38002",
      "a73982be29714e69b220585b53c20ac5",
      "e22a72eac91c461596a8810f72da12e3",
      "3a7bdd89c25b48629b5e2d9a0023726f",
      "fc57633dff4e4e12b3f759af4f0dbdd6",
      "8e590867251e4b5f90336ebf647c4f15",
      "ca77b65fdce4444d860f8f521694daa7",
      "e1e15c1c12714e5c91f16f6918b16c5c",
      "3b01ce3487b745abaa793d7705f3defa",
      "81e3e3e4ecc34d16917e478931b4c330",
      "db027ced37ba4cfdad0521a4a314d100",
      "8d02aadb44e84b5688a617ae22089d86",
      "eebeff1c80d74db59a67385b03cdc74e",
      "f3d00bff664c42c0b4ebf0ed39b6cafa",
      "18bf72dc6e4b438fb87cda7acb6ec60a",
      "57850f9ea48e4fe4b61d6847f58aaa7f",
      "0c07fa389ebf409094b849d1f0c9fee7",
      "0e5dc145e2644c7c875f4e82b3fc5a7f",
      "33ba3590f48e46d0b1591ad122e0c267",
      "9aca2afba2074b55942312dddc6198a5",
      "be0f9d07165242c9b99af4be47b61698",
      "cf1dbf1f6b054490a87e04580ee55d0a",
      "66e6d9fde6e147d79458ec37c0654059",
      "0936012daa8343d0b0cf233b32e6af85",
      "646a86d95fec4272a096cf6d198a36bc",
      "3458e11f77664c9b85bc0c2b944fb9f2",
      "2cc00a9f114344a8bbf4f43f7c051a6e",
      "207ab0c6e7cc409bab7824441f582bf6",
      "61b1f3d540994e528b9a06033c2cf199",
      "4a1d6a79d3534d70b8a87ab7bc03dcd7",
      "0dcb8c0c9e424f91baa74de3a96282d0",
      "c72c14df50574b51802e713147947ae4",
      "efc3a2fe85f940419166a63196b99f58",
      "08d077c9bc72427e8ff52e8bd39db95b",
      "88274327afb44622b98a8f4c07ba1097",
      "0933d1000948446f8c85412b9eba5d5a",
      "353097c98fb6462bb8e3d8028c6a4e7e",
      "3ada3072d93d41699e72264abd0cb7b0",
      "5babc23811b947a497f82870cc62d709",
      "bb7678bbbcd146858d64b123b7bb07c4",
      "157ce65c6d2e48d9b0ef3a3f34774752",
      "87f1a317b1cc42d7b3859698c24e4bea",
      "d957136f3f05460eb37d67e4d585900a",
      "caf4fdf1b1704b209c9cc27adf67e976",
      "2e099917357649058e619147f63756d6",
      "f6ee08f772b34b13b6137ce1afea57cc",
      "7ec184cbd15a4edab74ba981aefc05c2",
      "197e0e165ab84dc596e9d60b07df7e4f",
      "1879b3a1c28143679dc2d6fce5e0d3d6",
      "342f90ea7fc24e7998c3139b369434ff",
      "3c4774b81f254173b9e656704a3af35d",
      "4acec64290474bd8a0dc4eb1b4e1ac43",
      "8c8d9cda5caa4a60b59a4526f89ad39c",
      "fc5d289ba974470e903bf685f4b1d0c8",
      "88f645d31a41403496f71b45e256ce61",
      "ae11ad990106453cb9cfd147464e6b78",
      "2eb60c7c59de40bfb1a1d5ae9453ea7b",
      "3a14c58c5e5f4d3ca9c96ee186f7e117",
      "b9bf25c286a24014a7b7f5eb3682be8f",
      "bae9d626be594456b654b2fe730f05dc",
      "bd8f858aa52a4752a962ac847e27ddef",
      "5e6343d39b764bfc808ec376347e7cf7",
      "5372fa33a71e4adbad95e023af4bd4eb"
     ]
    },
    "executionInfo": {
     "elapsed": 22188,
     "status": "ok",
     "timestamp": 1658847184671,
     "user": {
      "displayName": "Mohammad Cheraghi",
      "userId": "07187142478069859814"
     },
     "user_tz": -270
    },
    "id": "TyX4JsnshmKr",
    "outputId": "bd6418c5-98a5-4639-a161-1ea67d6fb0f7",
    "scrolled": true
   },
   "outputs": [
    {
     "data": {
      "application/vnd.jupyter.widget-view+json": {
       "model_id": "554a6f298e4c41348dbc9623cd72ec78",
       "version_major": 2,
       "version_minor": 0
      },
      "text/plain": [
       "Downloading:   0%|          | 0.00/391 [00:00<?, ?B/s]"
      ]
     },
     "metadata": {},
     "output_type": "display_data"
    },
    {
     "data": {
      "application/vnd.jupyter.widget-view+json": {
       "model_id": "fa05824cceea45f78dc938cddb5d16cb",
       "version_major": 2,
       "version_minor": 0
      },
      "text/plain": [
       "Downloading:   0%|          | 0.00/508 [00:00<?, ?B/s]"
      ]
     },
     "metadata": {},
     "output_type": "display_data"
    },
    {
     "data": {
      "application/vnd.jupyter.widget-view+json": {
       "model_id": "60a7fb2dc5a24deea55d00ed41891b6e",
       "version_major": 2,
       "version_minor": 0
      },
      "text/plain": [
       "Downloading:   0%|          | 0.00/519 [00:00<?, ?B/s]"
      ]
     },
     "metadata": {},
     "output_type": "display_data"
    },
    {
     "data": {
      "application/vnd.jupyter.widget-view+json": {
       "model_id": "3b01ce3487b745abaa793d7705f3defa",
       "version_major": 2,
       "version_minor": 0
      },
      "text/plain": [
       "Downloading:   0%|          | 0.00/651M [00:00<?, ?B/s]"
      ]
     },
     "metadata": {},
     "output_type": "display_data"
    },
    {
     "data": {
      "application/vnd.jupyter.widget-view+json": {
       "model_id": "9aca2afba2074b55942312dddc6198a5",
       "version_major": 2,
       "version_minor": 0
      },
      "text/plain": [
       "Downloading:   0%|          | 0.00/27.0 [00:00<?, ?B/s]"
      ]
     },
     "metadata": {},
     "output_type": "display_data"
    },
    {
     "data": {
      "application/vnd.jupyter.widget-view+json": {
       "model_id": "0dcb8c0c9e424f91baa74de3a96282d0",
       "version_major": 2,
       "version_minor": 0
      },
      "text/plain": [
       "Downloading:   0%|          | 0.00/112 [00:00<?, ?B/s]"
      ]
     },
     "metadata": {},
     "output_type": "display_data"
    },
    {
     "data": {
      "application/vnd.jupyter.widget-view+json": {
       "model_id": "87f1a317b1cc42d7b3859698c24e4bea",
       "version_major": 2,
       "version_minor": 0
      },
      "text/plain": [
       "Downloading:   0%|          | 0.00/404 [00:00<?, ?B/s]"
      ]
     },
     "metadata": {},
     "output_type": "display_data"
    },
    {
     "data": {
      "application/vnd.jupyter.widget-view+json": {
       "model_id": "8c8d9cda5caa4a60b59a4526f89ad39c",
       "version_major": 2,
       "version_minor": 0
      },
      "text/plain": [
       "Downloading:   0%|          | 0.00/1.20M [00:00<?, ?B/s]"
      ]
     },
     "metadata": {},
     "output_type": "display_data"
    },
    {
     "name": "stderr",
     "output_type": "stream",
     "text": [
      "No sentence-transformers model found with name /root/.cache/torch/sentence_transformers/m3hrdadfi_bert-fa-base-uncased-wikinli-mean-tokens. Creating a new one with MEAN pooling.\n"
     ]
    }
   ],
   "source": [
    "transformer_model = SentenceTransformer('m3hrdadfi/bert-fa-base-uncased-wikinli-mean-tokens')"
   ]
  },
  {
   "cell_type": "markdown",
   "metadata": {
    "id": "RVoc9t5myOsT"
   },
   "source": [
    "<div dir=rtl>\n",
    "در بلاک زیر، با استفاده از مدل دریافت شده، لیست فایل‌ها را کدگذاری می‌کنیم. مشابه حالت قبل نتیجه را برای استفاه‌های بعدی ذخیره می‌کنیم.\n",
    "</div>"
   ]
  },
  {
   "cell_type": "code",
   "execution_count": null,
   "metadata": {
    "colab": {
     "base_uri": "https://localhost:8080/",
     "height": 49,
     "referenced_widgets": [
      "d86322ba2dd7463b9d40252c031f1a0a",
      "07629d6b3fda412881465e9ddca80b38",
      "9489aede0006454b9fb84aa25cd43e4a",
      "6ab7028c49a74e97810343bc9b2f8eb0",
      "d51663ca2bda4539a3676499f962b299",
      "e85046b542254cf09394c1001381f72f",
      "30b4db1dae984fa69fc252ba8d60d621",
      "aa0462d9b7964937a259f00dc1e1c0ad",
      "bbd2adf74b3449699eefbd89f07dfaa0",
      "4ddfec9790864f71a2ee5839664d9575",
      "f3373ab2e3974365a235f5cbf1f9363f"
     ]
    },
    "executionInfo": {
     "elapsed": 3389566,
     "status": "ok",
     "timestamp": 1658777199171,
     "user": {
      "displayName": "Mohammad Cheraghi",
      "userId": "07187142478069859814"
     },
     "user_tz": -270
    },
    "id": "Sfhk8t05hmKs",
    "outputId": "068a1ca0-d050-4792-f694-971aaf904453"
   },
   "outputs": [
    {
     "data": {
      "application/vnd.jupyter.widget-view+json": {
       "model_id": "d86322ba2dd7463b9d40252c031f1a0a",
       "version_major": 2,
       "version_minor": 0
      },
      "text/plain": [
       "Batches:   0%|          | 0/157 [00:00<?, ?it/s]"
      ]
     },
     "metadata": {},
     "output_type": "display_data"
    }
   ],
   "source": [
    "# transformer_doc_embeddings = transformer_model.encode(news_list, convert_to_tensor=True, show_progress_bar=True)"
   ]
  },
  {
   "cell_type": "code",
   "execution_count": null,
   "metadata": {
    "id": "p0h0p5x26iWy"
   },
   "outputs": [],
   "source": [
    "# np.save(\"./data/transformer_doc_embeddings\", transformer_doc_embeddings)"
   ]
  },
  {
   "cell_type": "code",
   "execution_count": null,
   "metadata": {
    "id": "fgaPwZSN6sle"
   },
   "outputs": [],
   "source": [
    "transformer_doc_embeddings = np.load(\"./data/transformer_doc_embeddings.npy\")"
   ]
  },
  {
   "cell_type": "code",
   "execution_count": null,
   "metadata": {
    "colab": {
     "base_uri": "https://localhost:8080/"
    },
    "executionInfo": {
     "elapsed": 9,
     "status": "ok",
     "timestamp": 1658822716997,
     "user": {
      "displayName": "Mohammad Cheraghi",
      "userId": "07187142478069859814"
     },
     "user_tz": -270
    },
    "id": "SWMdsHixUQLF",
    "outputId": "888cd331-3f0a-48c6-84de-3edb28ed9a98"
   },
   "outputs": [
    {
     "data": {
      "text/plain": [
       "(5000, 768)"
      ]
     },
     "execution_count": 36,
     "metadata": {},
     "output_type": "execute_result"
    }
   ],
   "source": [
    "# transformer_doc_embeddings.shape"
   ]
  },
  {
   "cell_type": "markdown",
   "metadata": {
    "id": "o3K7LqGGVrNr"
   },
   "source": [
    "# 2.3 Tf-Idf"
   ]
  },
  {
   "cell_type": "markdown",
   "metadata": {
    "id": "GAHfUYCizgjh"
   },
   "source": [
    "<div dir=rtl>\n",
    "در اینجا سراغ tf-idf\n",
    "می‌رویم. توجه کنید که بخشی از داده‌ها در روش بعد نیز به کار می‌روند.\n",
    "</div>"
   ]
  },
  {
   "cell_type": "code",
   "execution_count": null,
   "metadata": {
    "id": "XMgva6sLU5FB"
   },
   "outputs": [],
   "source": [
    "from sklearn.feature_extraction.text import TfidfVectorizer\n",
    "from sklearn.metrics.pairwise import cosine_similarity"
   ]
  },
  {
   "cell_type": "markdown",
   "metadata": {
    "id": "gPSJnzA0ztjl"
   },
   "source": [
    "<div dir=rtl>\n",
    "ابتدا یک مدل tf-idf\n",
    "ساخته‌ایم و سپس لیست فایل‌ها را بر روی آن فیت کرده‌ایم. خود فایل‌ها را نیز کدگذاری کرده‌ایم.\n",
    "</div>"
   ]
  },
  {
   "cell_type": "code",
   "execution_count": null,
   "metadata": {
    "id": "sBPWxQ28U9w3"
   },
   "outputs": [],
   "source": [
    "tfidf_vectorizer = TfidfVectorizer(smooth_idf=False, norm=\"l2\")\n",
    "# tfidf_embeddings = tfidf_vectorizer.fit_transform(news_list)"
   ]
  },
  {
   "cell_type": "code",
   "execution_count": null,
   "metadata": {
    "id": "Iy2VsIs3J-Y0"
   },
   "outputs": [],
   "source": [
    "# json.dump(tfidf_vectorizer.vocabulary_, open('./data/tfidf_vocabulary.json', mode = 'w'))\n",
    "# np.save(\"./data/tfidf_idf\", tfidf_vectorizer.idf_)"
   ]
  },
  {
   "cell_type": "code",
   "execution_count": null,
   "metadata": {
    "id": "hSAfmrtWKa30"
   },
   "outputs": [],
   "source": [
    "tfidf_vocabulary = json.load(open('./data/tfidf_vocabulary.json', mode = 'r'))\n",
    "tfidf_idf = np.load(\"./data/tfidf_idf.npy\")"
   ]
  },
  {
   "cell_type": "code",
   "execution_count": null,
   "metadata": {
    "id": "keYiU2_6MBeP"
   },
   "outputs": [],
   "source": [
    "tfidf_vectorizer.idf_ = tfidf_idf\n",
    "tfidf_vectorizer.vocabulary_ = tfidf_vocabulary"
   ]
  },
  {
   "cell_type": "code",
   "execution_count": null,
   "metadata": {
    "id": "rexOT6WnBIIm"
   },
   "outputs": [],
   "source": [
    "from scipy import sparse"
   ]
  },
  {
   "cell_type": "code",
   "execution_count": null,
   "metadata": {
    "id": "UPPqtLmN5dWb"
   },
   "outputs": [],
   "source": [
    "# sparse.save_npz(\"./data/tfidf_embeddings\", tfidf_embeddings)"
   ]
  },
  {
   "cell_type": "code",
   "execution_count": null,
   "metadata": {
    "id": "qeSPgLGR-zm1"
   },
   "outputs": [],
   "source": [
    "tfidf_embeddings = sparse.load_npz(\"./data/tfidf_embeddings.npz\")"
   ]
  },
  {
   "cell_type": "markdown",
   "metadata": {
    "id": "NMpi37iihaXg"
   },
   "source": [
    "# 2.4 fasttext"
   ]
  },
  {
   "cell_type": "markdown",
   "metadata": {
    "id": "CPFhPAiY0KX2"
   },
   "source": [
    "<div dir=rtl>\n",
    "آخرین روش، بردار وزن‌دار tf-idf بر روی fasttext است.\n",
    "<br>\n",
    "به این صورت که ابتدا از روی مجموعه فایل‌ها، هر کدام از لغات یک بردار با طول مشخص دریافت می‌کنند. (به روش fasttext) سپس با استفاده از idf\n",
    "کلمات، هرکدام از فایل‌ها را به شکل یک مجموع وزن‌دار از بردارهای اولیه در می‌آوریم.\n",
    "</div>"
   ]
  },
  {
   "cell_type": "code",
   "execution_count": null,
   "metadata": {
    "id": "pihAjv9Yoj7a"
   },
   "outputs": [],
   "source": [
    "from gensim.models.fasttext import FastText"
   ]
  },
  {
   "cell_type": "code",
   "execution_count": null,
   "metadata": {
    "id": "g7S8corUGyOJ"
   },
   "outputs": [],
   "source": [
    "# word_tokenized_corpus = [word_tokenize(sent) for sent in news_list]"
   ]
  },
  {
   "cell_type": "markdown",
   "metadata": {
    "id": "4A3wS-L3vblA"
   },
   "source": [
    "<div dir=rtl>\n",
    "در قسمت زیر مدل از روی لغات فایل‌ها آموزش داده می‌شود.\n",
    "</div>"
   ]
  },
  {
   "cell_type": "code",
   "execution_count": null,
   "metadata": {
    "id": "dyGTIQUnk2iN"
   },
   "outputs": [],
   "source": [
    "# ft_model = FastText(word_tokenized_corpus)"
   ]
  },
  {
   "cell_type": "code",
   "execution_count": null,
   "metadata": {
    "id": "5dmMwuuwAYxV"
   },
   "outputs": [],
   "source": [
    "# ft_model.save(\"./data/fasttext.model\")"
   ]
  },
  {
   "cell_type": "code",
   "execution_count": null,
   "metadata": {
    "id": "gzHBwT2eBt7H"
   },
   "outputs": [],
   "source": [
    "ft_model = FastText.load(\"./data/fasttext.model\")"
   ]
  },
  {
   "cell_type": "markdown",
   "metadata": {
    "id": "Fifl0tO2292C"
   },
   "source": [
    "<div dir=rtl>\n",
    "در اینجا لیست لغات و وزن idf آن‌ها را از مدل tf-idf دریافت می‌کنیم.\n",
    "</div>"
   ]
  },
  {
   "cell_type": "code",
   "execution_count": null,
   "metadata": {
    "id": "mL0VivTtaEYU"
   },
   "outputs": [],
   "source": [
    "features = tfidf_vectorizer.get_feature_names_out()\n",
    "idfs = tfidf_vectorizer.idf_\n",
    "embedding_size = 100"
   ]
  },
  {
   "cell_type": "markdown",
   "metadata": {
    "id": "sYsGE38kmpRM"
   },
   "source": [
    "<div dir=rtl>\n",
    "و در نهایت در قسمت زیر که خیلی طول می‌کشد، هر فایل از روی مجموعه لغات آن و کد آن‌ها، کدگذاری می‌شود. همان مجموع وزن‌دار fasttext\n",
    "</div>"
   ]
  },
  {
   "cell_type": "code",
   "execution_count": null,
   "metadata": {
    "colab": {
     "base_uri": "https://localhost:8080/"
    },
    "executionInfo": {
     "elapsed": 759136,
     "status": "ok",
     "timestamp": 1658851013138,
     "user": {
      "displayName": "Mohammad Cheraghi",
      "userId": "07187142478069859814"
     },
     "user_tz": -270
    },
    "id": "VNmPkNqsXT4R",
    "outputId": "eb0bfe48-b5c4-4c9e-a973-8bd8c5014b45"
   },
   "outputs": [
    {
     "name": "stderr",
     "output_type": "stream",
     "text": [
      "100%|██████████| 5000/5000 [12:38<00:00,  6.59it/s]"
     ]
    },
    {
     "name": "stdout",
     "output_type": "stream",
     "text": [
      "number of absent words from model: 449\n"
     ]
    },
    {
     "name": "stderr",
     "output_type": "stream",
     "text": [
      "\n"
     ]
    }
   ],
   "source": [
    "# fast_weighted_embeddings = []\n",
    "# docs_size = len(news_list)\n",
    "# absent_words = 0\n",
    "# for i in tqdm(range(docs_size)):\n",
    "#     init_emb = np.zeros(embedding_size)\n",
    "#     for word in word_tokenize(news_list[i]):\n",
    "#         try:\n",
    "#             emb = ft_model.wv[word]\n",
    "#             resault = np.where(features == word)[0]\n",
    "#             if resault.size > 0:\n",
    "#                 init_emb += idfs[resault[0]] * emb / np.linalg.norm(emb)\n",
    "#         except Exception as e:\n",
    "#             absent_words += 1\n",
    "#     fast_weighted_embeddings.append(init_emb)\n",
    "# print('number of absent words from model:', absent_words)"
   ]
  },
  {
   "cell_type": "code",
   "execution_count": null,
   "metadata": {
    "id": "O4fXXJzjv9l5"
   },
   "outputs": [],
   "source": [
    "# np.save(\"./data/fast_weighted_embeddings\", fast_weighted_embeddings)"
   ]
  },
  {
   "cell_type": "code",
   "execution_count": null,
   "metadata": {
    "id": "MSD7ncg54otO"
   },
   "outputs": [],
   "source": [
    "fast_weighted_embeddings = np.load(\"./data/fast_weighted_embeddings.npy\")"
   ]
  },
  {
   "cell_type": "code",
   "execution_count": null,
   "metadata": {
    "colab": {
     "base_uri": "https://localhost:8080/"
    },
    "executionInfo": {
     "elapsed": 428,
     "status": "ok",
     "timestamp": 1658851389559,
     "user": {
      "displayName": "Mohammad Cheraghi",
      "userId": "07187142478069859814"
     },
     "user_tz": -270
    },
    "id": "m266AWDBmCUO",
    "outputId": "9de8994f-a062-49c4-ea93-e836c065a551"
   },
   "outputs": [
    {
     "data": {
      "text/plain": [
       "(5000, 100)"
      ]
     },
     "execution_count": 107,
     "metadata": {},
     "output_type": "execute_result"
    }
   ],
   "source": [
    "# np.array(fast_weighted_embeddings).shape"
   ]
  },
  {
   "cell_type": "markdown",
   "metadata": {
    "id": "5ZNlTQZo31T-"
   },
   "source": [
    "<div dir=rtl>\n",
    "در بخش جستجو مشابه فایل‌ها، باید لغات کوئری را کدگذاری کنیم و سپس از روی idf لغات، آن‌ها در ترکیب کنیم.\n",
    "و از روی فاصله کسینوسی، فایل‌های نزدیک به کوئری را پیدا کنیم.\n",
    "</div>"
   ]
  },
  {
   "cell_type": "markdown",
   "metadata": {
    "id": "wyB8fYpjgvna"
   },
   "source": [
    "# 3. query"
   ]
  },
  {
   "cell_type": "code",
   "execution_count": null,
   "metadata": {
    "id": "D66ni-bKgt_G"
   },
   "outputs": [],
   "source": [
    "def query_expansion_embedding(query_emb, rel_list, non_rel_list):\n",
    "    a = 1\n",
    "    b = 0.8\n",
    "    c = 0.1\n",
    "    resault = a * query_emb + b * np.sum(rel_list)/len(rel_list) - c * np.sum(non_rel_list)/len(non_rel_list)\n",
    "    return resault                                                                              "
   ]
  },
  {
   "cell_type": "code",
   "execution_count": null,
   "metadata": {
    "id": "CSdy5MUEqQzg"
   },
   "outputs": [],
   "source": [
    "def boolean_search(text, K):\n",
    "    my_indices = boolean_retrieval(boolean_matrix_df, frequency_matrix_df, K, text)\n",
    "    return my_indices"
   ]
  },
  {
   "cell_type": "code",
   "execution_count": null,
   "metadata": {
    "id": "B1Z-8qaM2vzv"
   },
   "outputs": [],
   "source": [
    "def transformer_search(text, K, expansion=False):\n",
    "    query = preprocess_text(text)\n",
    "    transformer_query_embedding = transformer_model.encode(query)\n",
    "    transformer_list_sim = util.cos_sim(transformer_query_embedding, transformer_doc_embeddings)\n",
    "    if expansion:\n",
    "        sorted_list_sim = np.argsort(np.array(transformer_list_sim[0]))\n",
    "        most_similar_emb = [transformer_doc_embeddings[i] for i in sorted_list_sim[::-1][:10]]\n",
    "        least_similar_emb = [transformer_doc_embeddings[i] for i in sorted_list_sim[:][:10]]\n",
    "        expanded = query_expansion_embedding(transformer_query_embedding, most_similar_emb, least_similar_emb)\n",
    "        transformer_list_sim = util.cos_sim(expanded, transformer_doc_embeddings)\n",
    "    \n",
    "    transformer_most_similar_doc_indices = np.argsort(np.array(transformer_list_sim[0]))[::-1][:K]\n",
    "    return transformer_most_similar_doc_indices"
   ]
  },
  {
   "cell_type": "code",
   "execution_count": null,
   "metadata": {
    "id": "0_w9xt2iyE5A"
   },
   "outputs": [],
   "source": [
    "def tfidf_search(text, K, expansion=False):\n",
    "    query = [preprocess_text(text)]\n",
    "    tfidf_query_vec = tfidf_vectorizer.transform(query)\n",
    "    tfidf_similarities = cosine_similarity(tfidf_embeddings, tfidf_query_vec).flatten()\n",
    "    if expansion:\n",
    "        sorted_sim = np.argsort(tfidf_similarities, axis=0)\n",
    "        most_similar_emb = [tfidf_embeddings[i] for i in sorted_sim[:-11:-1]]\n",
    "        least_similar_emb = [tfidf_embeddings[i] for i in sorted_sim[:10]]\n",
    "        expanded = query_expansion_embedding(tfidf_query_vec, most_similar_emb, least_similar_emb)\n",
    "        tfidf_similarities = cosine_similarity(tfidf_embeddings, expanded).flatten()\n",
    "\n",
    "    tfidf_most_similar_doc_indices = np.argsort(tfidf_similarities, axis=0)[:-K-1:-1]\n",
    "    return tfidf_most_similar_doc_indices"
   ]
  },
  {
   "cell_type": "code",
   "execution_count": null,
   "metadata": {
    "id": "EB1dTE9echoB"
   },
   "outputs": [],
   "source": [
    "def ft_weighted_search(text, K, expansion):\n",
    "    changed_text = preprocess_text(text)\n",
    "    init_emb = np.zeros(embedding_size)\n",
    "    for word in word_tokenize(changed_text):\n",
    "        try:\n",
    "            emb = ft_model.wv[word]\n",
    "            resault = np.where(features == word)[0]\n",
    "            if resault.size > 0:\n",
    "                init_emb += idfs[resault[0]] * emb / np.linalg.norm(emb)\n",
    "        except:\n",
    "            pass\n",
    "    ft_similarities = cosine_similarity(fast_weighted_embeddings, init_emb.reshape(1, -1)).flatten()\n",
    "    if expansion:\n",
    "        sorted_sim = np.argsort(ft_similarities, axis=0)\n",
    "        most_similar_emb = [fast_weighted_embeddings[i] for i in sorted_sim[:-11:-1]]\n",
    "        least_similar_emb = [fast_weighted_embeddings[i] for i in sorted_sim[:10]]\n",
    "        expanded = query_expansion_embedding(init_emb, most_similar_emb, least_similar_emb)\n",
    "        ft_similarities = cosine_similarity(fast_weighted_embeddings, expanded.reshape(1, -1)).flatten()\n",
    "\n",
    "    ft_most_similar_doc_indices = np.argsort(ft_similarities, axis=0)[:-K-1:-1]\n",
    "    return ft_most_similar_doc_indices"
   ]
  },
  {
   "cell_type": "code",
   "execution_count": null,
   "metadata": {
    "id": "OudqPo_kh0_2"
   },
   "outputs": [],
   "source": [
    "def query_search(query_text, output_num, search_type, expansion=False):\n",
    "    result_indices = []\n",
    "    if search_type == 'boolean':\n",
    "        if expansion:\n",
    "            pass\n",
    "        result_indices = boolean_search(query_text, output_num)\n",
    "    elif search_type == 'transformer':\n",
    "        result_indices = transformer_search(query_text, output_num, expansion)\n",
    "    elif search_type == 'tfidf':\n",
    "        result_indices = tfidf_search(query_text, output_num, expansion)\n",
    "    elif search_type == 'fasttext':\n",
    "        result_indices = ft_weighted_search(query_text, output_num, expansion)\n",
    "    \n",
    "    result = [news_details[i] for i in result_indices]\n",
    "    return result"
   ]
  },
  {
   "cell_type": "code",
   "execution_count": null,
   "metadata": {
    "colab": {
     "base_uri": "https://localhost:8080/"
    },
    "executionInfo": {
     "elapsed": 378,
     "status": "ok",
     "timestamp": 1658851344432,
     "user": {
      "displayName": "Mohammad Cheraghi",
      "userId": "07187142478069859814"
     },
     "user_tz": -270
    },
    "id": "qhkJiHV_nS7u",
    "outputId": "49833f01-2a34-4fb5-99f6-4ab53a2071fa"
   },
   "outputs": [
    {
     "name": "stdout",
     "output_type": "stream",
     "text": [
      "['https://www.yjc.news/fa/news/8177512/تاریخ-مسابقات-لیگ-برتر-و-اردوی-تیم-ملی-فوتبال-اعلام-شد', 'https://www.yjc.news/fa/news/8162628/سمیعی-باشگاه-پانتولیکوس-یونان-از-استقلال-شکایت-کرده-است#comments', 'https://www.yjc.news/fa/news/8170441/رکورد-شکنی-فرزانه-فصیحی-در-ماده-۱۰۰-متر-بانوان', 'https://www.yjc.news/fa/news/8177591/نمایندگان-اسکیت-ایران-در-مسابقات-کاپ-آزاد-ایتالیا-طلایی-شدند', 'https://www.yjc.news/fa/news/8172584/لیگ-ملت\\u200cهای-والیبال-۲۰۲۲-ایتالیا-میزبان-مرحله-پایانی-شد', 'http://www.yjc.news/fa/news/8175327/صلاح-در-لیورپول-ماندنی-شد&via=yjcagency', 'https://www.yjc.news/fa/news/8171357/نتایج-دوندگان-کشورمان-در-مسابقات-دو-و-میدانی-جام-کازانوف', 'https://www.yjc.news/fa/news/8172660/برگزاری-فینال-لیگ-دسته-یک-کشتی-همزمان-با-تولد-آقا-تختی', 'https://www.yjc.news/fa/news/8188227/شکسته-شدن-۳-رکورد-ملی-در-رقابت\\u200cهای-دو-و-میدانی-قهرمانی-باشگاه\\u200cهای-کشور', 'https://www.yjc.news/fa/news/8172592/اعزام-اسنوکرباز\\u200cهای-جوان-ایران-به-مسابقات-جهانی']\n",
      "['https://www.yjc.news/fa/news/8185765/ابراهیمی-از-پرسپولیس-جدا-شد', 'https://www.yjc.news/fa/news/8190069/سرمربی-سپاهان-روی-نیمکت-تیم-ملی-عراق', 'https://www.yjc.news/fa/news/8190523/صفا-هادی-به-تراکتور-پیوست', 'https://www.yjc.news/fa/news/8187124/سعیدی-فر-در-استقلال-ماندنی-شد', 'https://www.yjc.news/fa/news/8176252/قرارداد-سید-جلال-حسینی-و-محمد-عسگری-با-پرسپولیس-امضا-شد', 'https://www.yjc.news/fa/news/8190883/رضاوند-در-۲-راهی-فولاد-و-استقلال-نه-قاطع-ساپینتو-به-آرش', 'https://www.yjc.news/fa/news/8173113/مهدی-پور-با-استقلال-تمدید-کرد-حامدی-فر-قرارداد-بست', 'https://www.yjc.news/fa/news/8170286/صادقی-پرسپولیسی-شد', 'https://www.yjc.news/fa/news/8166243/پیشنهاد-رسانه-انگلیسی-به-منچستر-یونایتد-برای-جذب-طارمی-زوج-طارمی-رونالدو-به-حقیقت-می\\u200cپیوندد', 'https://www.yjc.news/fa/news/8186968/رضاییان-راهی-سپاهان-شد']\n"
     ]
    }
   ],
   "source": [
    "query = 'تیم فوتبال پرسپولیس'\n",
    "print([i['url'] for i in query_search(query, 10, 'fasttext', True)])\n",
    "print([i['url'] for i in query_search(query, 10, 'fasttext', False)])"
   ]
  }
 ],
 "metadata": {
  "accelerator": "TPU",
  "colab": {
   "collapsed_sections": [],
   "name": "index.ipynb",
   "provenance": []
  },
  "gpuClass": "standard",
  "interpreter": {
   "hash": "c7138a203ef7aeece7a1358e4d4a9de5add35a9a7292be9026489a92585e22ee"
  },
  "kernelspec": {
   "display_name": "Python 3 (ipykernel)",
   "language": "python",
   "name": "python3"
  },
  "language_info": {
   "codemirror_mode": {
    "name": "ipython",
    "version": 3
   },
   "file_extension": ".py",
   "mimetype": "text/x-python",
   "name": "python",
   "nbconvert_exporter": "python",
   "pygments_lexer": "ipython3",
   "version": "3.8.5"
  },
  "widgets": {
   "application/vnd.jupyter.widget-state+json": {
    "07629d6b3fda412881465e9ddca80b38": {
     "model_module": "@jupyter-widgets/controls",
     "model_module_version": "1.5.0",
     "model_name": "HTMLModel",
     "state": {
      "_dom_classes": [],
      "_model_module": "@jupyter-widgets/controls",
      "_model_module_version": "1.5.0",
      "_model_name": "HTMLModel",
      "_view_count": null,
      "_view_module": "@jupyter-widgets/controls",
      "_view_module_version": "1.5.0",
      "_view_name": "HTMLView",
      "description": "",
      "description_tooltip": null,
      "layout": "IPY_MODEL_e85046b542254cf09394c1001381f72f",
      "placeholder": "​",
      "style": "IPY_MODEL_30b4db1dae984fa69fc252ba8d60d621",
      "value": "Batches: 100%"
     }
    },
    "08d077c9bc72427e8ff52e8bd39db95b": {
     "model_module": "@jupyter-widgets/controls",
     "model_module_version": "1.5.0",
     "model_name": "HTMLModel",
     "state": {
      "_dom_classes": [],
      "_model_module": "@jupyter-widgets/controls",
      "_model_module_version": "1.5.0",
      "_model_name": "HTMLModel",
      "_view_count": null,
      "_view_module": "@jupyter-widgets/controls",
      "_view_module_version": "1.5.0",
      "_view_name": "HTMLView",
      "description": "",
      "description_tooltip": null,
      "layout": "IPY_MODEL_bb7678bbbcd146858d64b123b7bb07c4",
      "placeholder": "​",
      "style": "IPY_MODEL_157ce65c6d2e48d9b0ef3a3f34774752",
      "value": " 112/112 [00:00&lt;00:00, 2.89kB/s]"
     }
    },
    "0933d1000948446f8c85412b9eba5d5a": {
     "model_module": "@jupyter-widgets/base",
     "model_module_version": "1.2.0",
     "model_name": "LayoutModel",
     "state": {
      "_model_module": "@jupyter-widgets/base",
      "_model_module_version": "1.2.0",
      "_model_name": "LayoutModel",
      "_view_count": null,
      "_view_module": "@jupyter-widgets/base",
      "_view_module_version": "1.2.0",
      "_view_name": "LayoutView",
      "align_content": null,
      "align_items": null,
      "align_self": null,
      "border": null,
      "bottom": null,
      "display": null,
      "flex": null,
      "flex_flow": null,
      "grid_area": null,
      "grid_auto_columns": null,
      "grid_auto_flow": null,
      "grid_auto_rows": null,
      "grid_column": null,
      "grid_gap": null,
      "grid_row": null,
      "grid_template_areas": null,
      "grid_template_columns": null,
      "grid_template_rows": null,
      "height": null,
      "justify_content": null,
      "justify_items": null,
      "left": null,
      "margin": null,
      "max_height": null,
      "max_width": null,
      "min_height": null,
      "min_width": null,
      "object_fit": null,
      "object_position": null,
      "order": null,
      "overflow": null,
      "overflow_x": null,
      "overflow_y": null,
      "padding": null,
      "right": null,
      "top": null,
      "visibility": null,
      "width": null
     }
    },
    "0936012daa8343d0b0cf233b32e6af85": {
     "model_module": "@jupyter-widgets/base",
     "model_module_version": "1.2.0",
     "model_name": "LayoutModel",
     "state": {
      "_model_module": "@jupyter-widgets/base",
      "_model_module_version": "1.2.0",
      "_model_name": "LayoutModel",
      "_view_count": null,
      "_view_module": "@jupyter-widgets/base",
      "_view_module_version": "1.2.0",
      "_view_name": "LayoutView",
      "align_content": null,
      "align_items": null,
      "align_self": null,
      "border": null,
      "bottom": null,
      "display": null,
      "flex": null,
      "flex_flow": null,
      "grid_area": null,
      "grid_auto_columns": null,
      "grid_auto_flow": null,
      "grid_auto_rows": null,
      "grid_column": null,
      "grid_gap": null,
      "grid_row": null,
      "grid_template_areas": null,
      "grid_template_columns": null,
      "grid_template_rows": null,
      "height": null,
      "justify_content": null,
      "justify_items": null,
      "left": null,
      "margin": null,
      "max_height": null,
      "max_width": null,
      "min_height": null,
      "min_width": null,
      "object_fit": null,
      "object_position": null,
      "order": null,
      "overflow": null,
      "overflow_x": null,
      "overflow_y": null,
      "padding": null,
      "right": null,
      "top": null,
      "visibility": null,
      "width": null
     }
    },
    "0c07fa389ebf409094b849d1f0c9fee7": {
     "model_module": "@jupyter-widgets/controls",
     "model_module_version": "1.5.0",
     "model_name": "ProgressStyleModel",
     "state": {
      "_model_module": "@jupyter-widgets/controls",
      "_model_module_version": "1.5.0",
      "_model_name": "ProgressStyleModel",
      "_view_count": null,
      "_view_module": "@jupyter-widgets/base",
      "_view_module_version": "1.2.0",
      "_view_name": "StyleView",
      "bar_color": null,
      "description_width": ""
     }
    },
    "0dcb8c0c9e424f91baa74de3a96282d0": {
     "model_module": "@jupyter-widgets/controls",
     "model_module_version": "1.5.0",
     "model_name": "HBoxModel",
     "state": {
      "_dom_classes": [],
      "_model_module": "@jupyter-widgets/controls",
      "_model_module_version": "1.5.0",
      "_model_name": "HBoxModel",
      "_view_count": null,
      "_view_module": "@jupyter-widgets/controls",
      "_view_module_version": "1.5.0",
      "_view_name": "HBoxView",
      "box_style": "",
      "children": [
       "IPY_MODEL_c72c14df50574b51802e713147947ae4",
       "IPY_MODEL_efc3a2fe85f940419166a63196b99f58",
       "IPY_MODEL_08d077c9bc72427e8ff52e8bd39db95b"
      ],
      "layout": "IPY_MODEL_88274327afb44622b98a8f4c07ba1097"
     }
    },
    "0e5dc145e2644c7c875f4e82b3fc5a7f": {
     "model_module": "@jupyter-widgets/base",
     "model_module_version": "1.2.0",
     "model_name": "LayoutModel",
     "state": {
      "_model_module": "@jupyter-widgets/base",
      "_model_module_version": "1.2.0",
      "_model_name": "LayoutModel",
      "_view_count": null,
      "_view_module": "@jupyter-widgets/base",
      "_view_module_version": "1.2.0",
      "_view_name": "LayoutView",
      "align_content": null,
      "align_items": null,
      "align_self": null,
      "border": null,
      "bottom": null,
      "display": null,
      "flex": null,
      "flex_flow": null,
      "grid_area": null,
      "grid_auto_columns": null,
      "grid_auto_flow": null,
      "grid_auto_rows": null,
      "grid_column": null,
      "grid_gap": null,
      "grid_row": null,
      "grid_template_areas": null,
      "grid_template_columns": null,
      "grid_template_rows": null,
      "height": null,
      "justify_content": null,
      "justify_items": null,
      "left": null,
      "margin": null,
      "max_height": null,
      "max_width": null,
      "min_height": null,
      "min_width": null,
      "object_fit": null,
      "object_position": null,
      "order": null,
      "overflow": null,
      "overflow_x": null,
      "overflow_y": null,
      "padding": null,
      "right": null,
      "top": null,
      "visibility": null,
      "width": null
     }
    },
    "157ce65c6d2e48d9b0ef3a3f34774752": {
     "model_module": "@jupyter-widgets/controls",
     "model_module_version": "1.5.0",
     "model_name": "DescriptionStyleModel",
     "state": {
      "_model_module": "@jupyter-widgets/controls",
      "_model_module_version": "1.5.0",
      "_model_name": "DescriptionStyleModel",
      "_view_count": null,
      "_view_module": "@jupyter-widgets/base",
      "_view_module_version": "1.2.0",
      "_view_name": "StyleView",
      "description_width": ""
     }
    },
    "161c16db8067412bbe90dbeb1c9a1bce": {
     "model_module": "@jupyter-widgets/controls",
     "model_module_version": "1.5.0",
     "model_name": "HTMLModel",
     "state": {
      "_dom_classes": [],
      "_model_module": "@jupyter-widgets/controls",
      "_model_module_version": "1.5.0",
      "_model_name": "HTMLModel",
      "_view_count": null,
      "_view_module": "@jupyter-widgets/controls",
      "_view_module_version": "1.5.0",
      "_view_name": "HTMLView",
      "description": "",
      "description_tooltip": null,
      "layout": "IPY_MODEL_569223b7e6fb47fca24e41d195cbfb8f",
      "placeholder": "​",
      "style": "IPY_MODEL_6f1f867db1734cfca2f0bba99bbf5631",
      "value": "Downloading: 100%"
     }
    },
    "1879b3a1c28143679dc2d6fce5e0d3d6": {
     "model_module": "@jupyter-widgets/base",
     "model_module_version": "1.2.0",
     "model_name": "LayoutModel",
     "state": {
      "_model_module": "@jupyter-widgets/base",
      "_model_module_version": "1.2.0",
      "_model_name": "LayoutModel",
      "_view_count": null,
      "_view_module": "@jupyter-widgets/base",
      "_view_module_version": "1.2.0",
      "_view_name": "LayoutView",
      "align_content": null,
      "align_items": null,
      "align_self": null,
      "border": null,
      "bottom": null,
      "display": null,
      "flex": null,
      "flex_flow": null,
      "grid_area": null,
      "grid_auto_columns": null,
      "grid_auto_flow": null,
      "grid_auto_rows": null,
      "grid_column": null,
      "grid_gap": null,
      "grid_row": null,
      "grid_template_areas": null,
      "grid_template_columns": null,
      "grid_template_rows": null,
      "height": null,
      "justify_content": null,
      "justify_items": null,
      "left": null,
      "margin": null,
      "max_height": null,
      "max_width": null,
      "min_height": null,
      "min_width": null,
      "object_fit": null,
      "object_position": null,
      "order": null,
      "overflow": null,
      "overflow_x": null,
      "overflow_y": null,
      "padding": null,
      "right": null,
      "top": null,
      "visibility": null,
      "width": null
     }
    },
    "18bf72dc6e4b438fb87cda7acb6ec60a": {
     "model_module": "@jupyter-widgets/controls",
     "model_module_version": "1.5.0",
     "model_name": "DescriptionStyleModel",
     "state": {
      "_model_module": "@jupyter-widgets/controls",
      "_model_module_version": "1.5.0",
      "_model_name": "DescriptionStyleModel",
      "_view_count": null,
      "_view_module": "@jupyter-widgets/base",
      "_view_module_version": "1.2.0",
      "_view_name": "StyleView",
      "description_width": ""
     }
    },
    "197e0e165ab84dc596e9d60b07df7e4f": {
     "model_module": "@jupyter-widgets/controls",
     "model_module_version": "1.5.0",
     "model_name": "DescriptionStyleModel",
     "state": {
      "_model_module": "@jupyter-widgets/controls",
      "_model_module_version": "1.5.0",
      "_model_name": "DescriptionStyleModel",
      "_view_count": null,
      "_view_module": "@jupyter-widgets/base",
      "_view_module_version": "1.2.0",
      "_view_name": "StyleView",
      "description_width": ""
     }
    },
    "207ab0c6e7cc409bab7824441f582bf6": {
     "model_module": "@jupyter-widgets/controls",
     "model_module_version": "1.5.0",
     "model_name": "ProgressStyleModel",
     "state": {
      "_model_module": "@jupyter-widgets/controls",
      "_model_module_version": "1.5.0",
      "_model_name": "ProgressStyleModel",
      "_view_count": null,
      "_view_module": "@jupyter-widgets/base",
      "_view_module_version": "1.2.0",
      "_view_name": "StyleView",
      "bar_color": null,
      "description_width": ""
     }
    },
    "221241a2d21941aa958ea1a6e986fec1": {
     "model_module": "@jupyter-widgets/controls",
     "model_module_version": "1.5.0",
     "model_name": "HTMLModel",
     "state": {
      "_dom_classes": [],
      "_model_module": "@jupyter-widgets/controls",
      "_model_module_version": "1.5.0",
      "_model_name": "HTMLModel",
      "_view_count": null,
      "_view_module": "@jupyter-widgets/controls",
      "_view_module_version": "1.5.0",
      "_view_name": "HTMLView",
      "description": "",
      "description_tooltip": null,
      "layout": "IPY_MODEL_6dd1f18612ba45aeabbfd8be918e7612",
      "placeholder": "​",
      "style": "IPY_MODEL_35197af0ff724999afe54aaa056e810a",
      "value": " 508/508 [00:00&lt;00:00, 5.16kB/s]"
     }
    },
    "2cc00a9f114344a8bbf4f43f7c051a6e": {
     "model_module": "@jupyter-widgets/base",
     "model_module_version": "1.2.0",
     "model_name": "LayoutModel",
     "state": {
      "_model_module": "@jupyter-widgets/base",
      "_model_module_version": "1.2.0",
      "_model_name": "LayoutModel",
      "_view_count": null,
      "_view_module": "@jupyter-widgets/base",
      "_view_module_version": "1.2.0",
      "_view_name": "LayoutView",
      "align_content": null,
      "align_items": null,
      "align_self": null,
      "border": null,
      "bottom": null,
      "display": null,
      "flex": null,
      "flex_flow": null,
      "grid_area": null,
      "grid_auto_columns": null,
      "grid_auto_flow": null,
      "grid_auto_rows": null,
      "grid_column": null,
      "grid_gap": null,
      "grid_row": null,
      "grid_template_areas": null,
      "grid_template_columns": null,
      "grid_template_rows": null,
      "height": null,
      "justify_content": null,
      "justify_items": null,
      "left": null,
      "margin": null,
      "max_height": null,
      "max_width": null,
      "min_height": null,
      "min_width": null,
      "object_fit": null,
      "object_position": null,
      "order": null,
      "overflow": null,
      "overflow_x": null,
      "overflow_y": null,
      "padding": null,
      "right": null,
      "top": null,
      "visibility": null,
      "width": null
     }
    },
    "2e099917357649058e619147f63756d6": {
     "model_module": "@jupyter-widgets/controls",
     "model_module_version": "1.5.0",
     "model_name": "HTMLModel",
     "state": {
      "_dom_classes": [],
      "_model_module": "@jupyter-widgets/controls",
      "_model_module_version": "1.5.0",
      "_model_name": "HTMLModel",
      "_view_count": null,
      "_view_module": "@jupyter-widgets/controls",
      "_view_module_version": "1.5.0",
      "_view_name": "HTMLView",
      "description": "",
      "description_tooltip": null,
      "layout": "IPY_MODEL_3c4774b81f254173b9e656704a3af35d",
      "placeholder": "​",
      "style": "IPY_MODEL_4acec64290474bd8a0dc4eb1b4e1ac43",
      "value": " 404/404 [00:00&lt;00:00, 9.95kB/s]"
     }
    },
    "2eb60c7c59de40bfb1a1d5ae9453ea7b": {
     "model_module": "@jupyter-widgets/base",
     "model_module_version": "1.2.0",
     "model_name": "LayoutModel",
     "state": {
      "_model_module": "@jupyter-widgets/base",
      "_model_module_version": "1.2.0",
      "_model_name": "LayoutModel",
      "_view_count": null,
      "_view_module": "@jupyter-widgets/base",
      "_view_module_version": "1.2.0",
      "_view_name": "LayoutView",
      "align_content": null,
      "align_items": null,
      "align_self": null,
      "border": null,
      "bottom": null,
      "display": null,
      "flex": null,
      "flex_flow": null,
      "grid_area": null,
      "grid_auto_columns": null,
      "grid_auto_flow": null,
      "grid_auto_rows": null,
      "grid_column": null,
      "grid_gap": null,
      "grid_row": null,
      "grid_template_areas": null,
      "grid_template_columns": null,
      "grid_template_rows": null,
      "height": null,
      "justify_content": null,
      "justify_items": null,
      "left": null,
      "margin": null,
      "max_height": null,
      "max_width": null,
      "min_height": null,
      "min_width": null,
      "object_fit": null,
      "object_position": null,
      "order": null,
      "overflow": null,
      "overflow_x": null,
      "overflow_y": null,
      "padding": null,
      "right": null,
      "top": null,
      "visibility": null,
      "width": null
     }
    },
    "30b4db1dae984fa69fc252ba8d60d621": {
     "model_module": "@jupyter-widgets/controls",
     "model_module_version": "1.5.0",
     "model_name": "DescriptionStyleModel",
     "state": {
      "_model_module": "@jupyter-widgets/controls",
      "_model_module_version": "1.5.0",
      "_model_name": "DescriptionStyleModel",
      "_view_count": null,
      "_view_module": "@jupyter-widgets/base",
      "_view_module_version": "1.2.0",
      "_view_name": "StyleView",
      "description_width": ""
     }
    },
    "33ba3590f48e46d0b1591ad122e0c267": {
     "model_module": "@jupyter-widgets/controls",
     "model_module_version": "1.5.0",
     "model_name": "DescriptionStyleModel",
     "state": {
      "_model_module": "@jupyter-widgets/controls",
      "_model_module_version": "1.5.0",
      "_model_name": "DescriptionStyleModel",
      "_view_count": null,
      "_view_module": "@jupyter-widgets/base",
      "_view_module_version": "1.2.0",
      "_view_name": "StyleView",
      "description_width": ""
     }
    },
    "33e38346ab8a4f39afceae2c89212809": {
     "model_module": "@jupyter-widgets/controls",
     "model_module_version": "1.5.0",
     "model_name": "DescriptionStyleModel",
     "state": {
      "_model_module": "@jupyter-widgets/controls",
      "_model_module_version": "1.5.0",
      "_model_name": "DescriptionStyleModel",
      "_view_count": null,
      "_view_module": "@jupyter-widgets/base",
      "_view_module_version": "1.2.0",
      "_view_name": "StyleView",
      "description_width": ""
     }
    },
    "342f90ea7fc24e7998c3139b369434ff": {
     "model_module": "@jupyter-widgets/controls",
     "model_module_version": "1.5.0",
     "model_name": "ProgressStyleModel",
     "state": {
      "_model_module": "@jupyter-widgets/controls",
      "_model_module_version": "1.5.0",
      "_model_name": "ProgressStyleModel",
      "_view_count": null,
      "_view_module": "@jupyter-widgets/base",
      "_view_module_version": "1.2.0",
      "_view_name": "StyleView",
      "bar_color": null,
      "description_width": ""
     }
    },
    "3458e11f77664c9b85bc0c2b944fb9f2": {
     "model_module": "@jupyter-widgets/controls",
     "model_module_version": "1.5.0",
     "model_name": "DescriptionStyleModel",
     "state": {
      "_model_module": "@jupyter-widgets/controls",
      "_model_module_version": "1.5.0",
      "_model_name": "DescriptionStyleModel",
      "_view_count": null,
      "_view_module": "@jupyter-widgets/base",
      "_view_module_version": "1.2.0",
      "_view_name": "StyleView",
      "description_width": ""
     }
    },
    "35197af0ff724999afe54aaa056e810a": {
     "model_module": "@jupyter-widgets/controls",
     "model_module_version": "1.5.0",
     "model_name": "DescriptionStyleModel",
     "state": {
      "_model_module": "@jupyter-widgets/controls",
      "_model_module_version": "1.5.0",
      "_model_name": "DescriptionStyleModel",
      "_view_count": null,
      "_view_module": "@jupyter-widgets/base",
      "_view_module_version": "1.2.0",
      "_view_name": "StyleView",
      "description_width": ""
     }
    },
    "353097c98fb6462bb8e3d8028c6a4e7e": {
     "model_module": "@jupyter-widgets/controls",
     "model_module_version": "1.5.0",
     "model_name": "DescriptionStyleModel",
     "state": {
      "_model_module": "@jupyter-widgets/controls",
      "_model_module_version": "1.5.0",
      "_model_name": "DescriptionStyleModel",
      "_view_count": null,
      "_view_module": "@jupyter-widgets/base",
      "_view_module_version": "1.2.0",
      "_view_name": "StyleView",
      "description_width": ""
     }
    },
    "3a0eb412db3b45aba95ae668adf074ca": {
     "model_module": "@jupyter-widgets/base",
     "model_module_version": "1.2.0",
     "model_name": "LayoutModel",
     "state": {
      "_model_module": "@jupyter-widgets/base",
      "_model_module_version": "1.2.0",
      "_model_name": "LayoutModel",
      "_view_count": null,
      "_view_module": "@jupyter-widgets/base",
      "_view_module_version": "1.2.0",
      "_view_name": "LayoutView",
      "align_content": null,
      "align_items": null,
      "align_self": null,
      "border": null,
      "bottom": null,
      "display": null,
      "flex": null,
      "flex_flow": null,
      "grid_area": null,
      "grid_auto_columns": null,
      "grid_auto_flow": null,
      "grid_auto_rows": null,
      "grid_column": null,
      "grid_gap": null,
      "grid_row": null,
      "grid_template_areas": null,
      "grid_template_columns": null,
      "grid_template_rows": null,
      "height": null,
      "justify_content": null,
      "justify_items": null,
      "left": null,
      "margin": null,
      "max_height": null,
      "max_width": null,
      "min_height": null,
      "min_width": null,
      "object_fit": null,
      "object_position": null,
      "order": null,
      "overflow": null,
      "overflow_x": null,
      "overflow_y": null,
      "padding": null,
      "right": null,
      "top": null,
      "visibility": null,
      "width": null
     }
    },
    "3a14c58c5e5f4d3ca9c96ee186f7e117": {
     "model_module": "@jupyter-widgets/base",
     "model_module_version": "1.2.0",
     "model_name": "LayoutModel",
     "state": {
      "_model_module": "@jupyter-widgets/base",
      "_model_module_version": "1.2.0",
      "_model_name": "LayoutModel",
      "_view_count": null,
      "_view_module": "@jupyter-widgets/base",
      "_view_module_version": "1.2.0",
      "_view_name": "LayoutView",
      "align_content": null,
      "align_items": null,
      "align_self": null,
      "border": null,
      "bottom": null,
      "display": null,
      "flex": null,
      "flex_flow": null,
      "grid_area": null,
      "grid_auto_columns": null,
      "grid_auto_flow": null,
      "grid_auto_rows": null,
      "grid_column": null,
      "grid_gap": null,
      "grid_row": null,
      "grid_template_areas": null,
      "grid_template_columns": null,
      "grid_template_rows": null,
      "height": null,
      "justify_content": null,
      "justify_items": null,
      "left": null,
      "margin": null,
      "max_height": null,
      "max_width": null,
      "min_height": null,
      "min_width": null,
      "object_fit": null,
      "object_position": null,
      "order": null,
      "overflow": null,
      "overflow_x": null,
      "overflow_y": null,
      "padding": null,
      "right": null,
      "top": null,
      "visibility": null,
      "width": null
     }
    },
    "3a7bdd89c25b48629b5e2d9a0023726f": {
     "model_module": "@jupyter-widgets/controls",
     "model_module_version": "1.5.0",
     "model_name": "DescriptionStyleModel",
     "state": {
      "_model_module": "@jupyter-widgets/controls",
      "_model_module_version": "1.5.0",
      "_model_name": "DescriptionStyleModel",
      "_view_count": null,
      "_view_module": "@jupyter-widgets/base",
      "_view_module_version": "1.2.0",
      "_view_name": "StyleView",
      "description_width": ""
     }
    },
    "3ada3072d93d41699e72264abd0cb7b0": {
     "model_module": "@jupyter-widgets/base",
     "model_module_version": "1.2.0",
     "model_name": "LayoutModel",
     "state": {
      "_model_module": "@jupyter-widgets/base",
      "_model_module_version": "1.2.0",
      "_model_name": "LayoutModel",
      "_view_count": null,
      "_view_module": "@jupyter-widgets/base",
      "_view_module_version": "1.2.0",
      "_view_name": "LayoutView",
      "align_content": null,
      "align_items": null,
      "align_self": null,
      "border": null,
      "bottom": null,
      "display": null,
      "flex": null,
      "flex_flow": null,
      "grid_area": null,
      "grid_auto_columns": null,
      "grid_auto_flow": null,
      "grid_auto_rows": null,
      "grid_column": null,
      "grid_gap": null,
      "grid_row": null,
      "grid_template_areas": null,
      "grid_template_columns": null,
      "grid_template_rows": null,
      "height": null,
      "justify_content": null,
      "justify_items": null,
      "left": null,
      "margin": null,
      "max_height": null,
      "max_width": null,
      "min_height": null,
      "min_width": null,
      "object_fit": null,
      "object_position": null,
      "order": null,
      "overflow": null,
      "overflow_x": null,
      "overflow_y": null,
      "padding": null,
      "right": null,
      "top": null,
      "visibility": null,
      "width": null
     }
    },
    "3b01ce3487b745abaa793d7705f3defa": {
     "model_module": "@jupyter-widgets/controls",
     "model_module_version": "1.5.0",
     "model_name": "HBoxModel",
     "state": {
      "_dom_classes": [],
      "_model_module": "@jupyter-widgets/controls",
      "_model_module_version": "1.5.0",
      "_model_name": "HBoxModel",
      "_view_count": null,
      "_view_module": "@jupyter-widgets/controls",
      "_view_module_version": "1.5.0",
      "_view_name": "HBoxView",
      "box_style": "",
      "children": [
       "IPY_MODEL_81e3e3e4ecc34d16917e478931b4c330",
       "IPY_MODEL_db027ced37ba4cfdad0521a4a314d100",
       "IPY_MODEL_8d02aadb44e84b5688a617ae22089d86"
      ],
      "layout": "IPY_MODEL_eebeff1c80d74db59a67385b03cdc74e"
     }
    },
    "3c4774b81f254173b9e656704a3af35d": {
     "model_module": "@jupyter-widgets/base",
     "model_module_version": "1.2.0",
     "model_name": "LayoutModel",
     "state": {
      "_model_module": "@jupyter-widgets/base",
      "_model_module_version": "1.2.0",
      "_model_name": "LayoutModel",
      "_view_count": null,
      "_view_module": "@jupyter-widgets/base",
      "_view_module_version": "1.2.0",
      "_view_name": "LayoutView",
      "align_content": null,
      "align_items": null,
      "align_self": null,
      "border": null,
      "bottom": null,
      "display": null,
      "flex": null,
      "flex_flow": null,
      "grid_area": null,
      "grid_auto_columns": null,
      "grid_auto_flow": null,
      "grid_auto_rows": null,
      "grid_column": null,
      "grid_gap": null,
      "grid_row": null,
      "grid_template_areas": null,
      "grid_template_columns": null,
      "grid_template_rows": null,
      "height": null,
      "justify_content": null,
      "justify_items": null,
      "left": null,
      "margin": null,
      "max_height": null,
      "max_width": null,
      "min_height": null,
      "min_width": null,
      "object_fit": null,
      "object_position": null,
      "order": null,
      "overflow": null,
      "overflow_x": null,
      "overflow_y": null,
      "padding": null,
      "right": null,
      "top": null,
      "visibility": null,
      "width": null
     }
    },
    "4a1d6a79d3534d70b8a87ab7bc03dcd7": {
     "model_module": "@jupyter-widgets/controls",
     "model_module_version": "1.5.0",
     "model_name": "DescriptionStyleModel",
     "state": {
      "_model_module": "@jupyter-widgets/controls",
      "_model_module_version": "1.5.0",
      "_model_name": "DescriptionStyleModel",
      "_view_count": null,
      "_view_module": "@jupyter-widgets/base",
      "_view_module_version": "1.2.0",
      "_view_name": "StyleView",
      "description_width": ""
     }
    },
    "4acec64290474bd8a0dc4eb1b4e1ac43": {
     "model_module": "@jupyter-widgets/controls",
     "model_module_version": "1.5.0",
     "model_name": "DescriptionStyleModel",
     "state": {
      "_model_module": "@jupyter-widgets/controls",
      "_model_module_version": "1.5.0",
      "_model_name": "DescriptionStyleModel",
      "_view_count": null,
      "_view_module": "@jupyter-widgets/base",
      "_view_module_version": "1.2.0",
      "_view_name": "StyleView",
      "description_width": ""
     }
    },
    "4c169a7c14294fcfb5a3979c80c298e2": {
     "model_module": "@jupyter-widgets/controls",
     "model_module_version": "1.5.0",
     "model_name": "HTMLModel",
     "state": {
      "_dom_classes": [],
      "_model_module": "@jupyter-widgets/controls",
      "_model_module_version": "1.5.0",
      "_model_name": "HTMLModel",
      "_view_count": null,
      "_view_module": "@jupyter-widgets/controls",
      "_view_module_version": "1.5.0",
      "_view_name": "HTMLView",
      "description": "",
      "description_tooltip": null,
      "layout": "IPY_MODEL_ddc03b319dd9494cbfb5fe5f3f128b67",
      "placeholder": "​",
      "style": "IPY_MODEL_a2c7c620772d4088879e213217446d78",
      "value": "Downloading: 100%"
     }
    },
    "4d6cc33ba2a94b5e8609381dc5dd4f88": {
     "model_module": "@jupyter-widgets/controls",
     "model_module_version": "1.5.0",
     "model_name": "FloatProgressModel",
     "state": {
      "_dom_classes": [],
      "_model_module": "@jupyter-widgets/controls",
      "_model_module_version": "1.5.0",
      "_model_name": "FloatProgressModel",
      "_view_count": null,
      "_view_module": "@jupyter-widgets/controls",
      "_view_module_version": "1.5.0",
      "_view_name": "ProgressView",
      "bar_style": "success",
      "description": "",
      "description_tooltip": null,
      "layout": "IPY_MODEL_b6d9c545bbed42e4980a6e929ea94471",
      "max": 508,
      "min": 0,
      "orientation": "horizontal",
      "style": "IPY_MODEL_de5ab2afac0142e5bed7350c7ef5a9fa",
      "value": 508
     }
    },
    "4ddfec9790864f71a2ee5839664d9575": {
     "model_module": "@jupyter-widgets/base",
     "model_module_version": "1.2.0",
     "model_name": "LayoutModel",
     "state": {
      "_model_module": "@jupyter-widgets/base",
      "_model_module_version": "1.2.0",
      "_model_name": "LayoutModel",
      "_view_count": null,
      "_view_module": "@jupyter-widgets/base",
      "_view_module_version": "1.2.0",
      "_view_name": "LayoutView",
      "align_content": null,
      "align_items": null,
      "align_self": null,
      "border": null,
      "bottom": null,
      "display": null,
      "flex": null,
      "flex_flow": null,
      "grid_area": null,
      "grid_auto_columns": null,
      "grid_auto_flow": null,
      "grid_auto_rows": null,
      "grid_column": null,
      "grid_gap": null,
      "grid_row": null,
      "grid_template_areas": null,
      "grid_template_columns": null,
      "grid_template_rows": null,
      "height": null,
      "justify_content": null,
      "justify_items": null,
      "left": null,
      "margin": null,
      "max_height": null,
      "max_width": null,
      "min_height": null,
      "min_width": null,
      "object_fit": null,
      "object_position": null,
      "order": null,
      "overflow": null,
      "overflow_x": null,
      "overflow_y": null,
      "padding": null,
      "right": null,
      "top": null,
      "visibility": null,
      "width": null
     }
    },
    "4fb3b5eae7284437a9f028f571a06b86": {
     "model_module": "@jupyter-widgets/base",
     "model_module_version": "1.2.0",
     "model_name": "LayoutModel",
     "state": {
      "_model_module": "@jupyter-widgets/base",
      "_model_module_version": "1.2.0",
      "_model_name": "LayoutModel",
      "_view_count": null,
      "_view_module": "@jupyter-widgets/base",
      "_view_module_version": "1.2.0",
      "_view_name": "LayoutView",
      "align_content": null,
      "align_items": null,
      "align_self": null,
      "border": null,
      "bottom": null,
      "display": null,
      "flex": null,
      "flex_flow": null,
      "grid_area": null,
      "grid_auto_columns": null,
      "grid_auto_flow": null,
      "grid_auto_rows": null,
      "grid_column": null,
      "grid_gap": null,
      "grid_row": null,
      "grid_template_areas": null,
      "grid_template_columns": null,
      "grid_template_rows": null,
      "height": null,
      "justify_content": null,
      "justify_items": null,
      "left": null,
      "margin": null,
      "max_height": null,
      "max_width": null,
      "min_height": null,
      "min_width": null,
      "object_fit": null,
      "object_position": null,
      "order": null,
      "overflow": null,
      "overflow_x": null,
      "overflow_y": null,
      "padding": null,
      "right": null,
      "top": null,
      "visibility": null,
      "width": null
     }
    },
    "5372fa33a71e4adbad95e023af4bd4eb": {
     "model_module": "@jupyter-widgets/controls",
     "model_module_version": "1.5.0",
     "model_name": "DescriptionStyleModel",
     "state": {
      "_model_module": "@jupyter-widgets/controls",
      "_model_module_version": "1.5.0",
      "_model_name": "DescriptionStyleModel",
      "_view_count": null,
      "_view_module": "@jupyter-widgets/base",
      "_view_module_version": "1.2.0",
      "_view_name": "StyleView",
      "description_width": ""
     }
    },
    "554a6f298e4c41348dbc9623cd72ec78": {
     "model_module": "@jupyter-widgets/controls",
     "model_module_version": "1.5.0",
     "model_name": "HBoxModel",
     "state": {
      "_dom_classes": [],
      "_model_module": "@jupyter-widgets/controls",
      "_model_module_version": "1.5.0",
      "_model_name": "HBoxModel",
      "_view_count": null,
      "_view_module": "@jupyter-widgets/controls",
      "_view_module_version": "1.5.0",
      "_view_name": "HBoxView",
      "box_style": "",
      "children": [
       "IPY_MODEL_4c169a7c14294fcfb5a3979c80c298e2",
       "IPY_MODEL_cec1bc054a3d47a48c0629c389937bdb",
       "IPY_MODEL_e783c3c22b4f400593ef614680ce4ed3"
      ],
      "layout": "IPY_MODEL_6847607ecb624409b90e7064da959a98"
     }
    },
    "569223b7e6fb47fca24e41d195cbfb8f": {
     "model_module": "@jupyter-widgets/base",
     "model_module_version": "1.2.0",
     "model_name": "LayoutModel",
     "state": {
      "_model_module": "@jupyter-widgets/base",
      "_model_module_version": "1.2.0",
      "_model_name": "LayoutModel",
      "_view_count": null,
      "_view_module": "@jupyter-widgets/base",
      "_view_module_version": "1.2.0",
      "_view_name": "LayoutView",
      "align_content": null,
      "align_items": null,
      "align_self": null,
      "border": null,
      "bottom": null,
      "display": null,
      "flex": null,
      "flex_flow": null,
      "grid_area": null,
      "grid_auto_columns": null,
      "grid_auto_flow": null,
      "grid_auto_rows": null,
      "grid_column": null,
      "grid_gap": null,
      "grid_row": null,
      "grid_template_areas": null,
      "grid_template_columns": null,
      "grid_template_rows": null,
      "height": null,
      "justify_content": null,
      "justify_items": null,
      "left": null,
      "margin": null,
      "max_height": null,
      "max_width": null,
      "min_height": null,
      "min_width": null,
      "object_fit": null,
      "object_position": null,
      "order": null,
      "overflow": null,
      "overflow_x": null,
      "overflow_y": null,
      "padding": null,
      "right": null,
      "top": null,
      "visibility": null,
      "width": null
     }
    },
    "57850f9ea48e4fe4b61d6847f58aaa7f": {
     "model_module": "@jupyter-widgets/base",
     "model_module_version": "1.2.0",
     "model_name": "LayoutModel",
     "state": {
      "_model_module": "@jupyter-widgets/base",
      "_model_module_version": "1.2.0",
      "_model_name": "LayoutModel",
      "_view_count": null,
      "_view_module": "@jupyter-widgets/base",
      "_view_module_version": "1.2.0",
      "_view_name": "LayoutView",
      "align_content": null,
      "align_items": null,
      "align_self": null,
      "border": null,
      "bottom": null,
      "display": null,
      "flex": null,
      "flex_flow": null,
      "grid_area": null,
      "grid_auto_columns": null,
      "grid_auto_flow": null,
      "grid_auto_rows": null,
      "grid_column": null,
      "grid_gap": null,
      "grid_row": null,
      "grid_template_areas": null,
      "grid_template_columns": null,
      "grid_template_rows": null,
      "height": null,
      "justify_content": null,
      "justify_items": null,
      "left": null,
      "margin": null,
      "max_height": null,
      "max_width": null,
      "min_height": null,
      "min_width": null,
      "object_fit": null,
      "object_position": null,
      "order": null,
      "overflow": null,
      "overflow_x": null,
      "overflow_y": null,
      "padding": null,
      "right": null,
      "top": null,
      "visibility": null,
      "width": null
     }
    },
    "5babc23811b947a497f82870cc62d709": {
     "model_module": "@jupyter-widgets/controls",
     "model_module_version": "1.5.0",
     "model_name": "ProgressStyleModel",
     "state": {
      "_model_module": "@jupyter-widgets/controls",
      "_model_module_version": "1.5.0",
      "_model_name": "ProgressStyleModel",
      "_view_count": null,
      "_view_module": "@jupyter-widgets/base",
      "_view_module_version": "1.2.0",
      "_view_name": "StyleView",
      "bar_color": null,
      "description_width": ""
     }
    },
    "5e6343d39b764bfc808ec376347e7cf7": {
     "model_module": "@jupyter-widgets/base",
     "model_module_version": "1.2.0",
     "model_name": "LayoutModel",
     "state": {
      "_model_module": "@jupyter-widgets/base",
      "_model_module_version": "1.2.0",
      "_model_name": "LayoutModel",
      "_view_count": null,
      "_view_module": "@jupyter-widgets/base",
      "_view_module_version": "1.2.0",
      "_view_name": "LayoutView",
      "align_content": null,
      "align_items": null,
      "align_self": null,
      "border": null,
      "bottom": null,
      "display": null,
      "flex": null,
      "flex_flow": null,
      "grid_area": null,
      "grid_auto_columns": null,
      "grid_auto_flow": null,
      "grid_auto_rows": null,
      "grid_column": null,
      "grid_gap": null,
      "grid_row": null,
      "grid_template_areas": null,
      "grid_template_columns": null,
      "grid_template_rows": null,
      "height": null,
      "justify_content": null,
      "justify_items": null,
      "left": null,
      "margin": null,
      "max_height": null,
      "max_width": null,
      "min_height": null,
      "min_width": null,
      "object_fit": null,
      "object_position": null,
      "order": null,
      "overflow": null,
      "overflow_x": null,
      "overflow_y": null,
      "padding": null,
      "right": null,
      "top": null,
      "visibility": null,
      "width": null
     }
    },
    "60a7fb2dc5a24deea55d00ed41891b6e": {
     "model_module": "@jupyter-widgets/controls",
     "model_module_version": "1.5.0",
     "model_name": "HBoxModel",
     "state": {
      "_dom_classes": [],
      "_model_module": "@jupyter-widgets/controls",
      "_model_module_version": "1.5.0",
      "_model_name": "HBoxModel",
      "_view_count": null,
      "_view_module": "@jupyter-widgets/controls",
      "_view_module_version": "1.5.0",
      "_view_name": "HBoxView",
      "box_style": "",
      "children": [
       "IPY_MODEL_b06f60e6814245d2afe62d59d29b7014",
       "IPY_MODEL_8d2d85318ba14c03a8dd794373db7a1c",
       "IPY_MODEL_edf4b43534f442c398cee1ed7ec38002"
      ],
      "layout": "IPY_MODEL_a73982be29714e69b220585b53c20ac5"
     }
    },
    "61b1f3d540994e528b9a06033c2cf199": {
     "model_module": "@jupyter-widgets/base",
     "model_module_version": "1.2.0",
     "model_name": "LayoutModel",
     "state": {
      "_model_module": "@jupyter-widgets/base",
      "_model_module_version": "1.2.0",
      "_model_name": "LayoutModel",
      "_view_count": null,
      "_view_module": "@jupyter-widgets/base",
      "_view_module_version": "1.2.0",
      "_view_name": "LayoutView",
      "align_content": null,
      "align_items": null,
      "align_self": null,
      "border": null,
      "bottom": null,
      "display": null,
      "flex": null,
      "flex_flow": null,
      "grid_area": null,
      "grid_auto_columns": null,
      "grid_auto_flow": null,
      "grid_auto_rows": null,
      "grid_column": null,
      "grid_gap": null,
      "grid_row": null,
      "grid_template_areas": null,
      "grid_template_columns": null,
      "grid_template_rows": null,
      "height": null,
      "justify_content": null,
      "justify_items": null,
      "left": null,
      "margin": null,
      "max_height": null,
      "max_width": null,
      "min_height": null,
      "min_width": null,
      "object_fit": null,
      "object_position": null,
      "order": null,
      "overflow": null,
      "overflow_x": null,
      "overflow_y": null,
      "padding": null,
      "right": null,
      "top": null,
      "visibility": null,
      "width": null
     }
    },
    "646a86d95fec4272a096cf6d198a36bc": {
     "model_module": "@jupyter-widgets/base",
     "model_module_version": "1.2.0",
     "model_name": "LayoutModel",
     "state": {
      "_model_module": "@jupyter-widgets/base",
      "_model_module_version": "1.2.0",
      "_model_name": "LayoutModel",
      "_view_count": null,
      "_view_module": "@jupyter-widgets/base",
      "_view_module_version": "1.2.0",
      "_view_name": "LayoutView",
      "align_content": null,
      "align_items": null,
      "align_self": null,
      "border": null,
      "bottom": null,
      "display": null,
      "flex": null,
      "flex_flow": null,
      "grid_area": null,
      "grid_auto_columns": null,
      "grid_auto_flow": null,
      "grid_auto_rows": null,
      "grid_column": null,
      "grid_gap": null,
      "grid_row": null,
      "grid_template_areas": null,
      "grid_template_columns": null,
      "grid_template_rows": null,
      "height": null,
      "justify_content": null,
      "justify_items": null,
      "left": null,
      "margin": null,
      "max_height": null,
      "max_width": null,
      "min_height": null,
      "min_width": null,
      "object_fit": null,
      "object_position": null,
      "order": null,
      "overflow": null,
      "overflow_x": null,
      "overflow_y": null,
      "padding": null,
      "right": null,
      "top": null,
      "visibility": null,
      "width": null
     }
    },
    "66e6d9fde6e147d79458ec37c0654059": {
     "model_module": "@jupyter-widgets/controls",
     "model_module_version": "1.5.0",
     "model_name": "HTMLModel",
     "state": {
      "_dom_classes": [],
      "_model_module": "@jupyter-widgets/controls",
      "_model_module_version": "1.5.0",
      "_model_name": "HTMLModel",
      "_view_count": null,
      "_view_module": "@jupyter-widgets/controls",
      "_view_module_version": "1.5.0",
      "_view_name": "HTMLView",
      "description": "",
      "description_tooltip": null,
      "layout": "IPY_MODEL_61b1f3d540994e528b9a06033c2cf199",
      "placeholder": "​",
      "style": "IPY_MODEL_4a1d6a79d3534d70b8a87ab7bc03dcd7",
      "value": " 27.0/27.0 [00:00&lt;00:00, 917B/s]"
     }
    },
    "6847607ecb624409b90e7064da959a98": {
     "model_module": "@jupyter-widgets/base",
     "model_module_version": "1.2.0",
     "model_name": "LayoutModel",
     "state": {
      "_model_module": "@jupyter-widgets/base",
      "_model_module_version": "1.2.0",
      "_model_name": "LayoutModel",
      "_view_count": null,
      "_view_module": "@jupyter-widgets/base",
      "_view_module_version": "1.2.0",
      "_view_name": "LayoutView",
      "align_content": null,
      "align_items": null,
      "align_self": null,
      "border": null,
      "bottom": null,
      "display": null,
      "flex": null,
      "flex_flow": null,
      "grid_area": null,
      "grid_auto_columns": null,
      "grid_auto_flow": null,
      "grid_auto_rows": null,
      "grid_column": null,
      "grid_gap": null,
      "grid_row": null,
      "grid_template_areas": null,
      "grid_template_columns": null,
      "grid_template_rows": null,
      "height": null,
      "justify_content": null,
      "justify_items": null,
      "left": null,
      "margin": null,
      "max_height": null,
      "max_width": null,
      "min_height": null,
      "min_width": null,
      "object_fit": null,
      "object_position": null,
      "order": null,
      "overflow": null,
      "overflow_x": null,
      "overflow_y": null,
      "padding": null,
      "right": null,
      "top": null,
      "visibility": null,
      "width": null
     }
    },
    "6ab7028c49a74e97810343bc9b2f8eb0": {
     "model_module": "@jupyter-widgets/controls",
     "model_module_version": "1.5.0",
     "model_name": "HTMLModel",
     "state": {
      "_dom_classes": [],
      "_model_module": "@jupyter-widgets/controls",
      "_model_module_version": "1.5.0",
      "_model_name": "HTMLModel",
      "_view_count": null,
      "_view_module": "@jupyter-widgets/controls",
      "_view_module_version": "1.5.0",
      "_view_name": "HTMLView",
      "description": "",
      "description_tooltip": null,
      "layout": "IPY_MODEL_4ddfec9790864f71a2ee5839664d9575",
      "placeholder": "​",
      "style": "IPY_MODEL_f3373ab2e3974365a235f5cbf1f9363f",
      "value": " 157/157 [56:26&lt;00:00,  1.95s/it]"
     }
    },
    "6dd1f18612ba45aeabbfd8be918e7612": {
     "model_module": "@jupyter-widgets/base",
     "model_module_version": "1.2.0",
     "model_name": "LayoutModel",
     "state": {
      "_model_module": "@jupyter-widgets/base",
      "_model_module_version": "1.2.0",
      "_model_name": "LayoutModel",
      "_view_count": null,
      "_view_module": "@jupyter-widgets/base",
      "_view_module_version": "1.2.0",
      "_view_name": "LayoutView",
      "align_content": null,
      "align_items": null,
      "align_self": null,
      "border": null,
      "bottom": null,
      "display": null,
      "flex": null,
      "flex_flow": null,
      "grid_area": null,
      "grid_auto_columns": null,
      "grid_auto_flow": null,
      "grid_auto_rows": null,
      "grid_column": null,
      "grid_gap": null,
      "grid_row": null,
      "grid_template_areas": null,
      "grid_template_columns": null,
      "grid_template_rows": null,
      "height": null,
      "justify_content": null,
      "justify_items": null,
      "left": null,
      "margin": null,
      "max_height": null,
      "max_width": null,
      "min_height": null,
      "min_width": null,
      "object_fit": null,
      "object_position": null,
      "order": null,
      "overflow": null,
      "overflow_x": null,
      "overflow_y": null,
      "padding": null,
      "right": null,
      "top": null,
      "visibility": null,
      "width": null
     }
    },
    "6f1f867db1734cfca2f0bba99bbf5631": {
     "model_module": "@jupyter-widgets/controls",
     "model_module_version": "1.5.0",
     "model_name": "DescriptionStyleModel",
     "state": {
      "_model_module": "@jupyter-widgets/controls",
      "_model_module_version": "1.5.0",
      "_model_name": "DescriptionStyleModel",
      "_view_count": null,
      "_view_module": "@jupyter-widgets/base",
      "_view_module_version": "1.2.0",
      "_view_name": "StyleView",
      "description_width": ""
     }
    },
    "7ec184cbd15a4edab74ba981aefc05c2": {
     "model_module": "@jupyter-widgets/base",
     "model_module_version": "1.2.0",
     "model_name": "LayoutModel",
     "state": {
      "_model_module": "@jupyter-widgets/base",
      "_model_module_version": "1.2.0",
      "_model_name": "LayoutModel",
      "_view_count": null,
      "_view_module": "@jupyter-widgets/base",
      "_view_module_version": "1.2.0",
      "_view_name": "LayoutView",
      "align_content": null,
      "align_items": null,
      "align_self": null,
      "border": null,
      "bottom": null,
      "display": null,
      "flex": null,
      "flex_flow": null,
      "grid_area": null,
      "grid_auto_columns": null,
      "grid_auto_flow": null,
      "grid_auto_rows": null,
      "grid_column": null,
      "grid_gap": null,
      "grid_row": null,
      "grid_template_areas": null,
      "grid_template_columns": null,
      "grid_template_rows": null,
      "height": null,
      "justify_content": null,
      "justify_items": null,
      "left": null,
      "margin": null,
      "max_height": null,
      "max_width": null,
      "min_height": null,
      "min_width": null,
      "object_fit": null,
      "object_position": null,
      "order": null,
      "overflow": null,
      "overflow_x": null,
      "overflow_y": null,
      "padding": null,
      "right": null,
      "top": null,
      "visibility": null,
      "width": null
     }
    },
    "7ee998212d924d298c535c287eb37fe7": {
     "model_module": "@jupyter-widgets/controls",
     "model_module_version": "1.5.0",
     "model_name": "ProgressStyleModel",
     "state": {
      "_model_module": "@jupyter-widgets/controls",
      "_model_module_version": "1.5.0",
      "_model_name": "ProgressStyleModel",
      "_view_count": null,
      "_view_module": "@jupyter-widgets/base",
      "_view_module_version": "1.2.0",
      "_view_name": "StyleView",
      "bar_color": null,
      "description_width": ""
     }
    },
    "81e3e3e4ecc34d16917e478931b4c330": {
     "model_module": "@jupyter-widgets/controls",
     "model_module_version": "1.5.0",
     "model_name": "HTMLModel",
     "state": {
      "_dom_classes": [],
      "_model_module": "@jupyter-widgets/controls",
      "_model_module_version": "1.5.0",
      "_model_name": "HTMLModel",
      "_view_count": null,
      "_view_module": "@jupyter-widgets/controls",
      "_view_module_version": "1.5.0",
      "_view_name": "HTMLView",
      "description": "",
      "description_tooltip": null,
      "layout": "IPY_MODEL_f3d00bff664c42c0b4ebf0ed39b6cafa",
      "placeholder": "​",
      "style": "IPY_MODEL_18bf72dc6e4b438fb87cda7acb6ec60a",
      "value": "Downloading: 100%"
     }
    },
    "87f1a317b1cc42d7b3859698c24e4bea": {
     "model_module": "@jupyter-widgets/controls",
     "model_module_version": "1.5.0",
     "model_name": "HBoxModel",
     "state": {
      "_dom_classes": [],
      "_model_module": "@jupyter-widgets/controls",
      "_model_module_version": "1.5.0",
      "_model_name": "HBoxModel",
      "_view_count": null,
      "_view_module": "@jupyter-widgets/controls",
      "_view_module_version": "1.5.0",
      "_view_name": "HBoxView",
      "box_style": "",
      "children": [
       "IPY_MODEL_d957136f3f05460eb37d67e4d585900a",
       "IPY_MODEL_caf4fdf1b1704b209c9cc27adf67e976",
       "IPY_MODEL_2e099917357649058e619147f63756d6"
      ],
      "layout": "IPY_MODEL_f6ee08f772b34b13b6137ce1afea57cc"
     }
    },
    "88274327afb44622b98a8f4c07ba1097": {
     "model_module": "@jupyter-widgets/base",
     "model_module_version": "1.2.0",
     "model_name": "LayoutModel",
     "state": {
      "_model_module": "@jupyter-widgets/base",
      "_model_module_version": "1.2.0",
      "_model_name": "LayoutModel",
      "_view_count": null,
      "_view_module": "@jupyter-widgets/base",
      "_view_module_version": "1.2.0",
      "_view_name": "LayoutView",
      "align_content": null,
      "align_items": null,
      "align_self": null,
      "border": null,
      "bottom": null,
      "display": null,
      "flex": null,
      "flex_flow": null,
      "grid_area": null,
      "grid_auto_columns": null,
      "grid_auto_flow": null,
      "grid_auto_rows": null,
      "grid_column": null,
      "grid_gap": null,
      "grid_row": null,
      "grid_template_areas": null,
      "grid_template_columns": null,
      "grid_template_rows": null,
      "height": null,
      "justify_content": null,
      "justify_items": null,
      "left": null,
      "margin": null,
      "max_height": null,
      "max_width": null,
      "min_height": null,
      "min_width": null,
      "object_fit": null,
      "object_position": null,
      "order": null,
      "overflow": null,
      "overflow_x": null,
      "overflow_y": null,
      "padding": null,
      "right": null,
      "top": null,
      "visibility": null,
      "width": null
     }
    },
    "88f645d31a41403496f71b45e256ce61": {
     "model_module": "@jupyter-widgets/controls",
     "model_module_version": "1.5.0",
     "model_name": "FloatProgressModel",
     "state": {
      "_dom_classes": [],
      "_model_module": "@jupyter-widgets/controls",
      "_model_module_version": "1.5.0",
      "_model_name": "FloatProgressModel",
      "_view_count": null,
      "_view_module": "@jupyter-widgets/controls",
      "_view_module_version": "1.5.0",
      "_view_name": "ProgressView",
      "bar_style": "success",
      "description": "",
      "description_tooltip": null,
      "layout": "IPY_MODEL_bae9d626be594456b654b2fe730f05dc",
      "max": 1198122,
      "min": 0,
      "orientation": "horizontal",
      "style": "IPY_MODEL_bd8f858aa52a4752a962ac847e27ddef",
      "value": 1198122
     }
    },
    "8c8d9cda5caa4a60b59a4526f89ad39c": {
     "model_module": "@jupyter-widgets/controls",
     "model_module_version": "1.5.0",
     "model_name": "HBoxModel",
     "state": {
      "_dom_classes": [],
      "_model_module": "@jupyter-widgets/controls",
      "_model_module_version": "1.5.0",
      "_model_name": "HBoxModel",
      "_view_count": null,
      "_view_module": "@jupyter-widgets/controls",
      "_view_module_version": "1.5.0",
      "_view_name": "HBoxView",
      "box_style": "",
      "children": [
       "IPY_MODEL_fc5d289ba974470e903bf685f4b1d0c8",
       "IPY_MODEL_88f645d31a41403496f71b45e256ce61",
       "IPY_MODEL_ae11ad990106453cb9cfd147464e6b78"
      ],
      "layout": "IPY_MODEL_2eb60c7c59de40bfb1a1d5ae9453ea7b"
     }
    },
    "8d02aadb44e84b5688a617ae22089d86": {
     "model_module": "@jupyter-widgets/controls",
     "model_module_version": "1.5.0",
     "model_name": "HTMLModel",
     "state": {
      "_dom_classes": [],
      "_model_module": "@jupyter-widgets/controls",
      "_model_module_version": "1.5.0",
      "_model_name": "HTMLModel",
      "_view_count": null,
      "_view_module": "@jupyter-widgets/controls",
      "_view_module_version": "1.5.0",
      "_view_name": "HTMLView",
      "description": "",
      "description_tooltip": null,
      "layout": "IPY_MODEL_0e5dc145e2644c7c875f4e82b3fc5a7f",
      "placeholder": "​",
      "style": "IPY_MODEL_33ba3590f48e46d0b1591ad122e0c267",
      "value": " 651M/651M [00:16&lt;00:00, 52.1MB/s]"
     }
    },
    "8d2d85318ba14c03a8dd794373db7a1c": {
     "model_module": "@jupyter-widgets/controls",
     "model_module_version": "1.5.0",
     "model_name": "FloatProgressModel",
     "state": {
      "_dom_classes": [],
      "_model_module": "@jupyter-widgets/controls",
      "_model_module_version": "1.5.0",
      "_model_name": "FloatProgressModel",
      "_view_count": null,
      "_view_module": "@jupyter-widgets/controls",
      "_view_module_version": "1.5.0",
      "_view_name": "ProgressView",
      "bar_style": "success",
      "description": "",
      "description_tooltip": null,
      "layout": "IPY_MODEL_fc57633dff4e4e12b3f759af4f0dbdd6",
      "max": 519,
      "min": 0,
      "orientation": "horizontal",
      "style": "IPY_MODEL_8e590867251e4b5f90336ebf647c4f15",
      "value": 519
     }
    },
    "8e590867251e4b5f90336ebf647c4f15": {
     "model_module": "@jupyter-widgets/controls",
     "model_module_version": "1.5.0",
     "model_name": "ProgressStyleModel",
     "state": {
      "_model_module": "@jupyter-widgets/controls",
      "_model_module_version": "1.5.0",
      "_model_name": "ProgressStyleModel",
      "_view_count": null,
      "_view_module": "@jupyter-widgets/base",
      "_view_module_version": "1.2.0",
      "_view_name": "StyleView",
      "bar_color": null,
      "description_width": ""
     }
    },
    "9489aede0006454b9fb84aa25cd43e4a": {
     "model_module": "@jupyter-widgets/controls",
     "model_module_version": "1.5.0",
     "model_name": "FloatProgressModel",
     "state": {
      "_dom_classes": [],
      "_model_module": "@jupyter-widgets/controls",
      "_model_module_version": "1.5.0",
      "_model_name": "FloatProgressModel",
      "_view_count": null,
      "_view_module": "@jupyter-widgets/controls",
      "_view_module_version": "1.5.0",
      "_view_name": "ProgressView",
      "bar_style": "success",
      "description": "",
      "description_tooltip": null,
      "layout": "IPY_MODEL_aa0462d9b7964937a259f00dc1e1c0ad",
      "max": 157,
      "min": 0,
      "orientation": "horizontal",
      "style": "IPY_MODEL_bbd2adf74b3449699eefbd89f07dfaa0",
      "value": 157
     }
    },
    "9aca2afba2074b55942312dddc6198a5": {
     "model_module": "@jupyter-widgets/controls",
     "model_module_version": "1.5.0",
     "model_name": "HBoxModel",
     "state": {
      "_dom_classes": [],
      "_model_module": "@jupyter-widgets/controls",
      "_model_module_version": "1.5.0",
      "_model_name": "HBoxModel",
      "_view_count": null,
      "_view_module": "@jupyter-widgets/controls",
      "_view_module_version": "1.5.0",
      "_view_name": "HBoxView",
      "box_style": "",
      "children": [
       "IPY_MODEL_be0f9d07165242c9b99af4be47b61698",
       "IPY_MODEL_cf1dbf1f6b054490a87e04580ee55d0a",
       "IPY_MODEL_66e6d9fde6e147d79458ec37c0654059"
      ],
      "layout": "IPY_MODEL_0936012daa8343d0b0cf233b32e6af85"
     }
    },
    "a2c7c620772d4088879e213217446d78": {
     "model_module": "@jupyter-widgets/controls",
     "model_module_version": "1.5.0",
     "model_name": "DescriptionStyleModel",
     "state": {
      "_model_module": "@jupyter-widgets/controls",
      "_model_module_version": "1.5.0",
      "_model_name": "DescriptionStyleModel",
      "_view_count": null,
      "_view_module": "@jupyter-widgets/base",
      "_view_module_version": "1.2.0",
      "_view_name": "StyleView",
      "description_width": ""
     }
    },
    "a73982be29714e69b220585b53c20ac5": {
     "model_module": "@jupyter-widgets/base",
     "model_module_version": "1.2.0",
     "model_name": "LayoutModel",
     "state": {
      "_model_module": "@jupyter-widgets/base",
      "_model_module_version": "1.2.0",
      "_model_name": "LayoutModel",
      "_view_count": null,
      "_view_module": "@jupyter-widgets/base",
      "_view_module_version": "1.2.0",
      "_view_name": "LayoutView",
      "align_content": null,
      "align_items": null,
      "align_self": null,
      "border": null,
      "bottom": null,
      "display": null,
      "flex": null,
      "flex_flow": null,
      "grid_area": null,
      "grid_auto_columns": null,
      "grid_auto_flow": null,
      "grid_auto_rows": null,
      "grid_column": null,
      "grid_gap": null,
      "grid_row": null,
      "grid_template_areas": null,
      "grid_template_columns": null,
      "grid_template_rows": null,
      "height": null,
      "justify_content": null,
      "justify_items": null,
      "left": null,
      "margin": null,
      "max_height": null,
      "max_width": null,
      "min_height": null,
      "min_width": null,
      "object_fit": null,
      "object_position": null,
      "order": null,
      "overflow": null,
      "overflow_x": null,
      "overflow_y": null,
      "padding": null,
      "right": null,
      "top": null,
      "visibility": null,
      "width": null
     }
    },
    "aa0462d9b7964937a259f00dc1e1c0ad": {
     "model_module": "@jupyter-widgets/base",
     "model_module_version": "1.2.0",
     "model_name": "LayoutModel",
     "state": {
      "_model_module": "@jupyter-widgets/base",
      "_model_module_version": "1.2.0",
      "_model_name": "LayoutModel",
      "_view_count": null,
      "_view_module": "@jupyter-widgets/base",
      "_view_module_version": "1.2.0",
      "_view_name": "LayoutView",
      "align_content": null,
      "align_items": null,
      "align_self": null,
      "border": null,
      "bottom": null,
      "display": null,
      "flex": null,
      "flex_flow": null,
      "grid_area": null,
      "grid_auto_columns": null,
      "grid_auto_flow": null,
      "grid_auto_rows": null,
      "grid_column": null,
      "grid_gap": null,
      "grid_row": null,
      "grid_template_areas": null,
      "grid_template_columns": null,
      "grid_template_rows": null,
      "height": null,
      "justify_content": null,
      "justify_items": null,
      "left": null,
      "margin": null,
      "max_height": null,
      "max_width": null,
      "min_height": null,
      "min_width": null,
      "object_fit": null,
      "object_position": null,
      "order": null,
      "overflow": null,
      "overflow_x": null,
      "overflow_y": null,
      "padding": null,
      "right": null,
      "top": null,
      "visibility": null,
      "width": null
     }
    },
    "ae11ad990106453cb9cfd147464e6b78": {
     "model_module": "@jupyter-widgets/controls",
     "model_module_version": "1.5.0",
     "model_name": "HTMLModel",
     "state": {
      "_dom_classes": [],
      "_model_module": "@jupyter-widgets/controls",
      "_model_module_version": "1.5.0",
      "_model_name": "HTMLModel",
      "_view_count": null,
      "_view_module": "@jupyter-widgets/controls",
      "_view_module_version": "1.5.0",
      "_view_name": "HTMLView",
      "description": "",
      "description_tooltip": null,
      "layout": "IPY_MODEL_5e6343d39b764bfc808ec376347e7cf7",
      "placeholder": "​",
      "style": "IPY_MODEL_5372fa33a71e4adbad95e023af4bd4eb",
      "value": " 1.20M/1.20M [00:00&lt;00:00, 6.55MB/s]"
     }
    },
    "b06f60e6814245d2afe62d59d29b7014": {
     "model_module": "@jupyter-widgets/controls",
     "model_module_version": "1.5.0",
     "model_name": "HTMLModel",
     "state": {
      "_dom_classes": [],
      "_model_module": "@jupyter-widgets/controls",
      "_model_module_version": "1.5.0",
      "_model_name": "HTMLModel",
      "_view_count": null,
      "_view_module": "@jupyter-widgets/controls",
      "_view_module_version": "1.5.0",
      "_view_name": "HTMLView",
      "description": "",
      "description_tooltip": null,
      "layout": "IPY_MODEL_e22a72eac91c461596a8810f72da12e3",
      "placeholder": "​",
      "style": "IPY_MODEL_3a7bdd89c25b48629b5e2d9a0023726f",
      "value": "Downloading: 100%"
     }
    },
    "b6d9c545bbed42e4980a6e929ea94471": {
     "model_module": "@jupyter-widgets/base",
     "model_module_version": "1.2.0",
     "model_name": "LayoutModel",
     "state": {
      "_model_module": "@jupyter-widgets/base",
      "_model_module_version": "1.2.0",
      "_model_name": "LayoutModel",
      "_view_count": null,
      "_view_module": "@jupyter-widgets/base",
      "_view_module_version": "1.2.0",
      "_view_name": "LayoutView",
      "align_content": null,
      "align_items": null,
      "align_self": null,
      "border": null,
      "bottom": null,
      "display": null,
      "flex": null,
      "flex_flow": null,
      "grid_area": null,
      "grid_auto_columns": null,
      "grid_auto_flow": null,
      "grid_auto_rows": null,
      "grid_column": null,
      "grid_gap": null,
      "grid_row": null,
      "grid_template_areas": null,
      "grid_template_columns": null,
      "grid_template_rows": null,
      "height": null,
      "justify_content": null,
      "justify_items": null,
      "left": null,
      "margin": null,
      "max_height": null,
      "max_width": null,
      "min_height": null,
      "min_width": null,
      "object_fit": null,
      "object_position": null,
      "order": null,
      "overflow": null,
      "overflow_x": null,
      "overflow_y": null,
      "padding": null,
      "right": null,
      "top": null,
      "visibility": null,
      "width": null
     }
    },
    "b9bf25c286a24014a7b7f5eb3682be8f": {
     "model_module": "@jupyter-widgets/controls",
     "model_module_version": "1.5.0",
     "model_name": "DescriptionStyleModel",
     "state": {
      "_model_module": "@jupyter-widgets/controls",
      "_model_module_version": "1.5.0",
      "_model_name": "DescriptionStyleModel",
      "_view_count": null,
      "_view_module": "@jupyter-widgets/base",
      "_view_module_version": "1.2.0",
      "_view_name": "StyleView",
      "description_width": ""
     }
    },
    "bae9d626be594456b654b2fe730f05dc": {
     "model_module": "@jupyter-widgets/base",
     "model_module_version": "1.2.0",
     "model_name": "LayoutModel",
     "state": {
      "_model_module": "@jupyter-widgets/base",
      "_model_module_version": "1.2.0",
      "_model_name": "LayoutModel",
      "_view_count": null,
      "_view_module": "@jupyter-widgets/base",
      "_view_module_version": "1.2.0",
      "_view_name": "LayoutView",
      "align_content": null,
      "align_items": null,
      "align_self": null,
      "border": null,
      "bottom": null,
      "display": null,
      "flex": null,
      "flex_flow": null,
      "grid_area": null,
      "grid_auto_columns": null,
      "grid_auto_flow": null,
      "grid_auto_rows": null,
      "grid_column": null,
      "grid_gap": null,
      "grid_row": null,
      "grid_template_areas": null,
      "grid_template_columns": null,
      "grid_template_rows": null,
      "height": null,
      "justify_content": null,
      "justify_items": null,
      "left": null,
      "margin": null,
      "max_height": null,
      "max_width": null,
      "min_height": null,
      "min_width": null,
      "object_fit": null,
      "object_position": null,
      "order": null,
      "overflow": null,
      "overflow_x": null,
      "overflow_y": null,
      "padding": null,
      "right": null,
      "top": null,
      "visibility": null,
      "width": null
     }
    },
    "bb7678bbbcd146858d64b123b7bb07c4": {
     "model_module": "@jupyter-widgets/base",
     "model_module_version": "1.2.0",
     "model_name": "LayoutModel",
     "state": {
      "_model_module": "@jupyter-widgets/base",
      "_model_module_version": "1.2.0",
      "_model_name": "LayoutModel",
      "_view_count": null,
      "_view_module": "@jupyter-widgets/base",
      "_view_module_version": "1.2.0",
      "_view_name": "LayoutView",
      "align_content": null,
      "align_items": null,
      "align_self": null,
      "border": null,
      "bottom": null,
      "display": null,
      "flex": null,
      "flex_flow": null,
      "grid_area": null,
      "grid_auto_columns": null,
      "grid_auto_flow": null,
      "grid_auto_rows": null,
      "grid_column": null,
      "grid_gap": null,
      "grid_row": null,
      "grid_template_areas": null,
      "grid_template_columns": null,
      "grid_template_rows": null,
      "height": null,
      "justify_content": null,
      "justify_items": null,
      "left": null,
      "margin": null,
      "max_height": null,
      "max_width": null,
      "min_height": null,
      "min_width": null,
      "object_fit": null,
      "object_position": null,
      "order": null,
      "overflow": null,
      "overflow_x": null,
      "overflow_y": null,
      "padding": null,
      "right": null,
      "top": null,
      "visibility": null,
      "width": null
     }
    },
    "bbd2adf74b3449699eefbd89f07dfaa0": {
     "model_module": "@jupyter-widgets/controls",
     "model_module_version": "1.5.0",
     "model_name": "ProgressStyleModel",
     "state": {
      "_model_module": "@jupyter-widgets/controls",
      "_model_module_version": "1.5.0",
      "_model_name": "ProgressStyleModel",
      "_view_count": null,
      "_view_module": "@jupyter-widgets/base",
      "_view_module_version": "1.2.0",
      "_view_name": "StyleView",
      "bar_color": null,
      "description_width": ""
     }
    },
    "bd8f858aa52a4752a962ac847e27ddef": {
     "model_module": "@jupyter-widgets/controls",
     "model_module_version": "1.5.0",
     "model_name": "ProgressStyleModel",
     "state": {
      "_model_module": "@jupyter-widgets/controls",
      "_model_module_version": "1.5.0",
      "_model_name": "ProgressStyleModel",
      "_view_count": null,
      "_view_module": "@jupyter-widgets/base",
      "_view_module_version": "1.2.0",
      "_view_name": "StyleView",
      "bar_color": null,
      "description_width": ""
     }
    },
    "be0f9d07165242c9b99af4be47b61698": {
     "model_module": "@jupyter-widgets/controls",
     "model_module_version": "1.5.0",
     "model_name": "HTMLModel",
     "state": {
      "_dom_classes": [],
      "_model_module": "@jupyter-widgets/controls",
      "_model_module_version": "1.5.0",
      "_model_name": "HTMLModel",
      "_view_count": null,
      "_view_module": "@jupyter-widgets/controls",
      "_view_module_version": "1.5.0",
      "_view_name": "HTMLView",
      "description": "",
      "description_tooltip": null,
      "layout": "IPY_MODEL_646a86d95fec4272a096cf6d198a36bc",
      "placeholder": "​",
      "style": "IPY_MODEL_3458e11f77664c9b85bc0c2b944fb9f2",
      "value": "Downloading: 100%"
     }
    },
    "c72c14df50574b51802e713147947ae4": {
     "model_module": "@jupyter-widgets/controls",
     "model_module_version": "1.5.0",
     "model_name": "HTMLModel",
     "state": {
      "_dom_classes": [],
      "_model_module": "@jupyter-widgets/controls",
      "_model_module_version": "1.5.0",
      "_model_name": "HTMLModel",
      "_view_count": null,
      "_view_module": "@jupyter-widgets/controls",
      "_view_module_version": "1.5.0",
      "_view_name": "HTMLView",
      "description": "",
      "description_tooltip": null,
      "layout": "IPY_MODEL_0933d1000948446f8c85412b9eba5d5a",
      "placeholder": "​",
      "style": "IPY_MODEL_353097c98fb6462bb8e3d8028c6a4e7e",
      "value": "Downloading: 100%"
     }
    },
    "ca77b65fdce4444d860f8f521694daa7": {
     "model_module": "@jupyter-widgets/base",
     "model_module_version": "1.2.0",
     "model_name": "LayoutModel",
     "state": {
      "_model_module": "@jupyter-widgets/base",
      "_model_module_version": "1.2.0",
      "_model_name": "LayoutModel",
      "_view_count": null,
      "_view_module": "@jupyter-widgets/base",
      "_view_module_version": "1.2.0",
      "_view_name": "LayoutView",
      "align_content": null,
      "align_items": null,
      "align_self": null,
      "border": null,
      "bottom": null,
      "display": null,
      "flex": null,
      "flex_flow": null,
      "grid_area": null,
      "grid_auto_columns": null,
      "grid_auto_flow": null,
      "grid_auto_rows": null,
      "grid_column": null,
      "grid_gap": null,
      "grid_row": null,
      "grid_template_areas": null,
      "grid_template_columns": null,
      "grid_template_rows": null,
      "height": null,
      "justify_content": null,
      "justify_items": null,
      "left": null,
      "margin": null,
      "max_height": null,
      "max_width": null,
      "min_height": null,
      "min_width": null,
      "object_fit": null,
      "object_position": null,
      "order": null,
      "overflow": null,
      "overflow_x": null,
      "overflow_y": null,
      "padding": null,
      "right": null,
      "top": null,
      "visibility": null,
      "width": null
     }
    },
    "caf4fdf1b1704b209c9cc27adf67e976": {
     "model_module": "@jupyter-widgets/controls",
     "model_module_version": "1.5.0",
     "model_name": "FloatProgressModel",
     "state": {
      "_dom_classes": [],
      "_model_module": "@jupyter-widgets/controls",
      "_model_module_version": "1.5.0",
      "_model_name": "FloatProgressModel",
      "_view_count": null,
      "_view_module": "@jupyter-widgets/controls",
      "_view_module_version": "1.5.0",
      "_view_name": "ProgressView",
      "bar_style": "success",
      "description": "",
      "description_tooltip": null,
      "layout": "IPY_MODEL_1879b3a1c28143679dc2d6fce5e0d3d6",
      "max": 404,
      "min": 0,
      "orientation": "horizontal",
      "style": "IPY_MODEL_342f90ea7fc24e7998c3139b369434ff",
      "value": 404
     }
    },
    "cec1bc054a3d47a48c0629c389937bdb": {
     "model_module": "@jupyter-widgets/controls",
     "model_module_version": "1.5.0",
     "model_name": "FloatProgressModel",
     "state": {
      "_dom_classes": [],
      "_model_module": "@jupyter-widgets/controls",
      "_model_module_version": "1.5.0",
      "_model_name": "FloatProgressModel",
      "_view_count": null,
      "_view_module": "@jupyter-widgets/controls",
      "_view_module_version": "1.5.0",
      "_view_name": "ProgressView",
      "bar_style": "success",
      "description": "",
      "description_tooltip": null,
      "layout": "IPY_MODEL_3a0eb412db3b45aba95ae668adf074ca",
      "max": 391,
      "min": 0,
      "orientation": "horizontal",
      "style": "IPY_MODEL_7ee998212d924d298c535c287eb37fe7",
      "value": 391
     }
    },
    "cf1dbf1f6b054490a87e04580ee55d0a": {
     "model_module": "@jupyter-widgets/controls",
     "model_module_version": "1.5.0",
     "model_name": "FloatProgressModel",
     "state": {
      "_dom_classes": [],
      "_model_module": "@jupyter-widgets/controls",
      "_model_module_version": "1.5.0",
      "_model_name": "FloatProgressModel",
      "_view_count": null,
      "_view_module": "@jupyter-widgets/controls",
      "_view_module_version": "1.5.0",
      "_view_name": "ProgressView",
      "bar_style": "success",
      "description": "",
      "description_tooltip": null,
      "layout": "IPY_MODEL_2cc00a9f114344a8bbf4f43f7c051a6e",
      "max": 27,
      "min": 0,
      "orientation": "horizontal",
      "style": "IPY_MODEL_207ab0c6e7cc409bab7824441f582bf6",
      "value": 27
     }
    },
    "cf5b26d1948848d6874961077b2f1e51": {
     "model_module": "@jupyter-widgets/base",
     "model_module_version": "1.2.0",
     "model_name": "LayoutModel",
     "state": {
      "_model_module": "@jupyter-widgets/base",
      "_model_module_version": "1.2.0",
      "_model_name": "LayoutModel",
      "_view_count": null,
      "_view_module": "@jupyter-widgets/base",
      "_view_module_version": "1.2.0",
      "_view_name": "LayoutView",
      "align_content": null,
      "align_items": null,
      "align_self": null,
      "border": null,
      "bottom": null,
      "display": null,
      "flex": null,
      "flex_flow": null,
      "grid_area": null,
      "grid_auto_columns": null,
      "grid_auto_flow": null,
      "grid_auto_rows": null,
      "grid_column": null,
      "grid_gap": null,
      "grid_row": null,
      "grid_template_areas": null,
      "grid_template_columns": null,
      "grid_template_rows": null,
      "height": null,
      "justify_content": null,
      "justify_items": null,
      "left": null,
      "margin": null,
      "max_height": null,
      "max_width": null,
      "min_height": null,
      "min_width": null,
      "object_fit": null,
      "object_position": null,
      "order": null,
      "overflow": null,
      "overflow_x": null,
      "overflow_y": null,
      "padding": null,
      "right": null,
      "top": null,
      "visibility": null,
      "width": null
     }
    },
    "d51663ca2bda4539a3676499f962b299": {
     "model_module": "@jupyter-widgets/base",
     "model_module_version": "1.2.0",
     "model_name": "LayoutModel",
     "state": {
      "_model_module": "@jupyter-widgets/base",
      "_model_module_version": "1.2.0",
      "_model_name": "LayoutModel",
      "_view_count": null,
      "_view_module": "@jupyter-widgets/base",
      "_view_module_version": "1.2.0",
      "_view_name": "LayoutView",
      "align_content": null,
      "align_items": null,
      "align_self": null,
      "border": null,
      "bottom": null,
      "display": null,
      "flex": null,
      "flex_flow": null,
      "grid_area": null,
      "grid_auto_columns": null,
      "grid_auto_flow": null,
      "grid_auto_rows": null,
      "grid_column": null,
      "grid_gap": null,
      "grid_row": null,
      "grid_template_areas": null,
      "grid_template_columns": null,
      "grid_template_rows": null,
      "height": null,
      "justify_content": null,
      "justify_items": null,
      "left": null,
      "margin": null,
      "max_height": null,
      "max_width": null,
      "min_height": null,
      "min_width": null,
      "object_fit": null,
      "object_position": null,
      "order": null,
      "overflow": null,
      "overflow_x": null,
      "overflow_y": null,
      "padding": null,
      "right": null,
      "top": null,
      "visibility": null,
      "width": null
     }
    },
    "d86322ba2dd7463b9d40252c031f1a0a": {
     "model_module": "@jupyter-widgets/controls",
     "model_module_version": "1.5.0",
     "model_name": "HBoxModel",
     "state": {
      "_dom_classes": [],
      "_model_module": "@jupyter-widgets/controls",
      "_model_module_version": "1.5.0",
      "_model_name": "HBoxModel",
      "_view_count": null,
      "_view_module": "@jupyter-widgets/controls",
      "_view_module_version": "1.5.0",
      "_view_name": "HBoxView",
      "box_style": "",
      "children": [
       "IPY_MODEL_07629d6b3fda412881465e9ddca80b38",
       "IPY_MODEL_9489aede0006454b9fb84aa25cd43e4a",
       "IPY_MODEL_6ab7028c49a74e97810343bc9b2f8eb0"
      ],
      "layout": "IPY_MODEL_d51663ca2bda4539a3676499f962b299"
     }
    },
    "d957136f3f05460eb37d67e4d585900a": {
     "model_module": "@jupyter-widgets/controls",
     "model_module_version": "1.5.0",
     "model_name": "HTMLModel",
     "state": {
      "_dom_classes": [],
      "_model_module": "@jupyter-widgets/controls",
      "_model_module_version": "1.5.0",
      "_model_name": "HTMLModel",
      "_view_count": null,
      "_view_module": "@jupyter-widgets/controls",
      "_view_module_version": "1.5.0",
      "_view_name": "HTMLView",
      "description": "",
      "description_tooltip": null,
      "layout": "IPY_MODEL_7ec184cbd15a4edab74ba981aefc05c2",
      "placeholder": "​",
      "style": "IPY_MODEL_197e0e165ab84dc596e9d60b07df7e4f",
      "value": "Downloading: 100%"
     }
    },
    "db027ced37ba4cfdad0521a4a314d100": {
     "model_module": "@jupyter-widgets/controls",
     "model_module_version": "1.5.0",
     "model_name": "FloatProgressModel",
     "state": {
      "_dom_classes": [],
      "_model_module": "@jupyter-widgets/controls",
      "_model_module_version": "1.5.0",
      "_model_name": "FloatProgressModel",
      "_view_count": null,
      "_view_module": "@jupyter-widgets/controls",
      "_view_module_version": "1.5.0",
      "_view_name": "ProgressView",
      "bar_style": "success",
      "description": "",
      "description_tooltip": null,
      "layout": "IPY_MODEL_57850f9ea48e4fe4b61d6847f58aaa7f",
      "max": 651449935,
      "min": 0,
      "orientation": "horizontal",
      "style": "IPY_MODEL_0c07fa389ebf409094b849d1f0c9fee7",
      "value": 651449935
     }
    },
    "ddc03b319dd9494cbfb5fe5f3f128b67": {
     "model_module": "@jupyter-widgets/base",
     "model_module_version": "1.2.0",
     "model_name": "LayoutModel",
     "state": {
      "_model_module": "@jupyter-widgets/base",
      "_model_module_version": "1.2.0",
      "_model_name": "LayoutModel",
      "_view_count": null,
      "_view_module": "@jupyter-widgets/base",
      "_view_module_version": "1.2.0",
      "_view_name": "LayoutView",
      "align_content": null,
      "align_items": null,
      "align_self": null,
      "border": null,
      "bottom": null,
      "display": null,
      "flex": null,
      "flex_flow": null,
      "grid_area": null,
      "grid_auto_columns": null,
      "grid_auto_flow": null,
      "grid_auto_rows": null,
      "grid_column": null,
      "grid_gap": null,
      "grid_row": null,
      "grid_template_areas": null,
      "grid_template_columns": null,
      "grid_template_rows": null,
      "height": null,
      "justify_content": null,
      "justify_items": null,
      "left": null,
      "margin": null,
      "max_height": null,
      "max_width": null,
      "min_height": null,
      "min_width": null,
      "object_fit": null,
      "object_position": null,
      "order": null,
      "overflow": null,
      "overflow_x": null,
      "overflow_y": null,
      "padding": null,
      "right": null,
      "top": null,
      "visibility": null,
      "width": null
     }
    },
    "de5ab2afac0142e5bed7350c7ef5a9fa": {
     "model_module": "@jupyter-widgets/controls",
     "model_module_version": "1.5.0",
     "model_name": "ProgressStyleModel",
     "state": {
      "_model_module": "@jupyter-widgets/controls",
      "_model_module_version": "1.5.0",
      "_model_name": "ProgressStyleModel",
      "_view_count": null,
      "_view_module": "@jupyter-widgets/base",
      "_view_module_version": "1.2.0",
      "_view_name": "StyleView",
      "bar_color": null,
      "description_width": ""
     }
    },
    "e1e15c1c12714e5c91f16f6918b16c5c": {
     "model_module": "@jupyter-widgets/controls",
     "model_module_version": "1.5.0",
     "model_name": "DescriptionStyleModel",
     "state": {
      "_model_module": "@jupyter-widgets/controls",
      "_model_module_version": "1.5.0",
      "_model_name": "DescriptionStyleModel",
      "_view_count": null,
      "_view_module": "@jupyter-widgets/base",
      "_view_module_version": "1.2.0",
      "_view_name": "StyleView",
      "description_width": ""
     }
    },
    "e22a72eac91c461596a8810f72da12e3": {
     "model_module": "@jupyter-widgets/base",
     "model_module_version": "1.2.0",
     "model_name": "LayoutModel",
     "state": {
      "_model_module": "@jupyter-widgets/base",
      "_model_module_version": "1.2.0",
      "_model_name": "LayoutModel",
      "_view_count": null,
      "_view_module": "@jupyter-widgets/base",
      "_view_module_version": "1.2.0",
      "_view_name": "LayoutView",
      "align_content": null,
      "align_items": null,
      "align_self": null,
      "border": null,
      "bottom": null,
      "display": null,
      "flex": null,
      "flex_flow": null,
      "grid_area": null,
      "grid_auto_columns": null,
      "grid_auto_flow": null,
      "grid_auto_rows": null,
      "grid_column": null,
      "grid_gap": null,
      "grid_row": null,
      "grid_template_areas": null,
      "grid_template_columns": null,
      "grid_template_rows": null,
      "height": null,
      "justify_content": null,
      "justify_items": null,
      "left": null,
      "margin": null,
      "max_height": null,
      "max_width": null,
      "min_height": null,
      "min_width": null,
      "object_fit": null,
      "object_position": null,
      "order": null,
      "overflow": null,
      "overflow_x": null,
      "overflow_y": null,
      "padding": null,
      "right": null,
      "top": null,
      "visibility": null,
      "width": null
     }
    },
    "e783c3c22b4f400593ef614680ce4ed3": {
     "model_module": "@jupyter-widgets/controls",
     "model_module_version": "1.5.0",
     "model_name": "HTMLModel",
     "state": {
      "_dom_classes": [],
      "_model_module": "@jupyter-widgets/controls",
      "_model_module_version": "1.5.0",
      "_model_name": "HTMLModel",
      "_view_count": null,
      "_view_module": "@jupyter-widgets/controls",
      "_view_module_version": "1.5.0",
      "_view_name": "HTMLView",
      "description": "",
      "description_tooltip": null,
      "layout": "IPY_MODEL_cf5b26d1948848d6874961077b2f1e51",
      "placeholder": "​",
      "style": "IPY_MODEL_33e38346ab8a4f39afceae2c89212809",
      "value": " 391/391 [00:00&lt;00:00, 3.43kB/s]"
     }
    },
    "e85046b542254cf09394c1001381f72f": {
     "model_module": "@jupyter-widgets/base",
     "model_module_version": "1.2.0",
     "model_name": "LayoutModel",
     "state": {
      "_model_module": "@jupyter-widgets/base",
      "_model_module_version": "1.2.0",
      "_model_name": "LayoutModel",
      "_view_count": null,
      "_view_module": "@jupyter-widgets/base",
      "_view_module_version": "1.2.0",
      "_view_name": "LayoutView",
      "align_content": null,
      "align_items": null,
      "align_self": null,
      "border": null,
      "bottom": null,
      "display": null,
      "flex": null,
      "flex_flow": null,
      "grid_area": null,
      "grid_auto_columns": null,
      "grid_auto_flow": null,
      "grid_auto_rows": null,
      "grid_column": null,
      "grid_gap": null,
      "grid_row": null,
      "grid_template_areas": null,
      "grid_template_columns": null,
      "grid_template_rows": null,
      "height": null,
      "justify_content": null,
      "justify_items": null,
      "left": null,
      "margin": null,
      "max_height": null,
      "max_width": null,
      "min_height": null,
      "min_width": null,
      "object_fit": null,
      "object_position": null,
      "order": null,
      "overflow": null,
      "overflow_x": null,
      "overflow_y": null,
      "padding": null,
      "right": null,
      "top": null,
      "visibility": null,
      "width": null
     }
    },
    "edf4b43534f442c398cee1ed7ec38002": {
     "model_module": "@jupyter-widgets/controls",
     "model_module_version": "1.5.0",
     "model_name": "HTMLModel",
     "state": {
      "_dom_classes": [],
      "_model_module": "@jupyter-widgets/controls",
      "_model_module_version": "1.5.0",
      "_model_name": "HTMLModel",
      "_view_count": null,
      "_view_module": "@jupyter-widgets/controls",
      "_view_module_version": "1.5.0",
      "_view_name": "HTMLView",
      "description": "",
      "description_tooltip": null,
      "layout": "IPY_MODEL_ca77b65fdce4444d860f8f521694daa7",
      "placeholder": "​",
      "style": "IPY_MODEL_e1e15c1c12714e5c91f16f6918b16c5c",
      "value": " 519/519 [00:00&lt;00:00, 2.74kB/s]"
     }
    },
    "eebeff1c80d74db59a67385b03cdc74e": {
     "model_module": "@jupyter-widgets/base",
     "model_module_version": "1.2.0",
     "model_name": "LayoutModel",
     "state": {
      "_model_module": "@jupyter-widgets/base",
      "_model_module_version": "1.2.0",
      "_model_name": "LayoutModel",
      "_view_count": null,
      "_view_module": "@jupyter-widgets/base",
      "_view_module_version": "1.2.0",
      "_view_name": "LayoutView",
      "align_content": null,
      "align_items": null,
      "align_self": null,
      "border": null,
      "bottom": null,
      "display": null,
      "flex": null,
      "flex_flow": null,
      "grid_area": null,
      "grid_auto_columns": null,
      "grid_auto_flow": null,
      "grid_auto_rows": null,
      "grid_column": null,
      "grid_gap": null,
      "grid_row": null,
      "grid_template_areas": null,
      "grid_template_columns": null,
      "grid_template_rows": null,
      "height": null,
      "justify_content": null,
      "justify_items": null,
      "left": null,
      "margin": null,
      "max_height": null,
      "max_width": null,
      "min_height": null,
      "min_width": null,
      "object_fit": null,
      "object_position": null,
      "order": null,
      "overflow": null,
      "overflow_x": null,
      "overflow_y": null,
      "padding": null,
      "right": null,
      "top": null,
      "visibility": null,
      "width": null
     }
    },
    "efc3a2fe85f940419166a63196b99f58": {
     "model_module": "@jupyter-widgets/controls",
     "model_module_version": "1.5.0",
     "model_name": "FloatProgressModel",
     "state": {
      "_dom_classes": [],
      "_model_module": "@jupyter-widgets/controls",
      "_model_module_version": "1.5.0",
      "_model_name": "FloatProgressModel",
      "_view_count": null,
      "_view_module": "@jupyter-widgets/controls",
      "_view_module_version": "1.5.0",
      "_view_name": "ProgressView",
      "bar_style": "success",
      "description": "",
      "description_tooltip": null,
      "layout": "IPY_MODEL_3ada3072d93d41699e72264abd0cb7b0",
      "max": 112,
      "min": 0,
      "orientation": "horizontal",
      "style": "IPY_MODEL_5babc23811b947a497f82870cc62d709",
      "value": 112
     }
    },
    "f3373ab2e3974365a235f5cbf1f9363f": {
     "model_module": "@jupyter-widgets/controls",
     "model_module_version": "1.5.0",
     "model_name": "DescriptionStyleModel",
     "state": {
      "_model_module": "@jupyter-widgets/controls",
      "_model_module_version": "1.5.0",
      "_model_name": "DescriptionStyleModel",
      "_view_count": null,
      "_view_module": "@jupyter-widgets/base",
      "_view_module_version": "1.2.0",
      "_view_name": "StyleView",
      "description_width": ""
     }
    },
    "f3d00bff664c42c0b4ebf0ed39b6cafa": {
     "model_module": "@jupyter-widgets/base",
     "model_module_version": "1.2.0",
     "model_name": "LayoutModel",
     "state": {
      "_model_module": "@jupyter-widgets/base",
      "_model_module_version": "1.2.0",
      "_model_name": "LayoutModel",
      "_view_count": null,
      "_view_module": "@jupyter-widgets/base",
      "_view_module_version": "1.2.0",
      "_view_name": "LayoutView",
      "align_content": null,
      "align_items": null,
      "align_self": null,
      "border": null,
      "bottom": null,
      "display": null,
      "flex": null,
      "flex_flow": null,
      "grid_area": null,
      "grid_auto_columns": null,
      "grid_auto_flow": null,
      "grid_auto_rows": null,
      "grid_column": null,
      "grid_gap": null,
      "grid_row": null,
      "grid_template_areas": null,
      "grid_template_columns": null,
      "grid_template_rows": null,
      "height": null,
      "justify_content": null,
      "justify_items": null,
      "left": null,
      "margin": null,
      "max_height": null,
      "max_width": null,
      "min_height": null,
      "min_width": null,
      "object_fit": null,
      "object_position": null,
      "order": null,
      "overflow": null,
      "overflow_x": null,
      "overflow_y": null,
      "padding": null,
      "right": null,
      "top": null,
      "visibility": null,
      "width": null
     }
    },
    "f6ee08f772b34b13b6137ce1afea57cc": {
     "model_module": "@jupyter-widgets/base",
     "model_module_version": "1.2.0",
     "model_name": "LayoutModel",
     "state": {
      "_model_module": "@jupyter-widgets/base",
      "_model_module_version": "1.2.0",
      "_model_name": "LayoutModel",
      "_view_count": null,
      "_view_module": "@jupyter-widgets/base",
      "_view_module_version": "1.2.0",
      "_view_name": "LayoutView",
      "align_content": null,
      "align_items": null,
      "align_self": null,
      "border": null,
      "bottom": null,
      "display": null,
      "flex": null,
      "flex_flow": null,
      "grid_area": null,
      "grid_auto_columns": null,
      "grid_auto_flow": null,
      "grid_auto_rows": null,
      "grid_column": null,
      "grid_gap": null,
      "grid_row": null,
      "grid_template_areas": null,
      "grid_template_columns": null,
      "grid_template_rows": null,
      "height": null,
      "justify_content": null,
      "justify_items": null,
      "left": null,
      "margin": null,
      "max_height": null,
      "max_width": null,
      "min_height": null,
      "min_width": null,
      "object_fit": null,
      "object_position": null,
      "order": null,
      "overflow": null,
      "overflow_x": null,
      "overflow_y": null,
      "padding": null,
      "right": null,
      "top": null,
      "visibility": null,
      "width": null
     }
    },
    "fa05824cceea45f78dc938cddb5d16cb": {
     "model_module": "@jupyter-widgets/controls",
     "model_module_version": "1.5.0",
     "model_name": "HBoxModel",
     "state": {
      "_dom_classes": [],
      "_model_module": "@jupyter-widgets/controls",
      "_model_module_version": "1.5.0",
      "_model_name": "HBoxModel",
      "_view_count": null,
      "_view_module": "@jupyter-widgets/controls",
      "_view_module_version": "1.5.0",
      "_view_name": "HBoxView",
      "box_style": "",
      "children": [
       "IPY_MODEL_161c16db8067412bbe90dbeb1c9a1bce",
       "IPY_MODEL_4d6cc33ba2a94b5e8609381dc5dd4f88",
       "IPY_MODEL_221241a2d21941aa958ea1a6e986fec1"
      ],
      "layout": "IPY_MODEL_4fb3b5eae7284437a9f028f571a06b86"
     }
    },
    "fc57633dff4e4e12b3f759af4f0dbdd6": {
     "model_module": "@jupyter-widgets/base",
     "model_module_version": "1.2.0",
     "model_name": "LayoutModel",
     "state": {
      "_model_module": "@jupyter-widgets/base",
      "_model_module_version": "1.2.0",
      "_model_name": "LayoutModel",
      "_view_count": null,
      "_view_module": "@jupyter-widgets/base",
      "_view_module_version": "1.2.0",
      "_view_name": "LayoutView",
      "align_content": null,
      "align_items": null,
      "align_self": null,
      "border": null,
      "bottom": null,
      "display": null,
      "flex": null,
      "flex_flow": null,
      "grid_area": null,
      "grid_auto_columns": null,
      "grid_auto_flow": null,
      "grid_auto_rows": null,
      "grid_column": null,
      "grid_gap": null,
      "grid_row": null,
      "grid_template_areas": null,
      "grid_template_columns": null,
      "grid_template_rows": null,
      "height": null,
      "justify_content": null,
      "justify_items": null,
      "left": null,
      "margin": null,
      "max_height": null,
      "max_width": null,
      "min_height": null,
      "min_width": null,
      "object_fit": null,
      "object_position": null,
      "order": null,
      "overflow": null,
      "overflow_x": null,
      "overflow_y": null,
      "padding": null,
      "right": null,
      "top": null,
      "visibility": null,
      "width": null
     }
    },
    "fc5d289ba974470e903bf685f4b1d0c8": {
     "model_module": "@jupyter-widgets/controls",
     "model_module_version": "1.5.0",
     "model_name": "HTMLModel",
     "state": {
      "_dom_classes": [],
      "_model_module": "@jupyter-widgets/controls",
      "_model_module_version": "1.5.0",
      "_model_name": "HTMLModel",
      "_view_count": null,
      "_view_module": "@jupyter-widgets/controls",
      "_view_module_version": "1.5.0",
      "_view_name": "HTMLView",
      "description": "",
      "description_tooltip": null,
      "layout": "IPY_MODEL_3a14c58c5e5f4d3ca9c96ee186f7e117",
      "placeholder": "​",
      "style": "IPY_MODEL_b9bf25c286a24014a7b7f5eb3682be8f",
      "value": "Downloading: 100%"
     }
    }
   }
  }
 },
 "nbformat": 4,
 "nbformat_minor": 1
}
