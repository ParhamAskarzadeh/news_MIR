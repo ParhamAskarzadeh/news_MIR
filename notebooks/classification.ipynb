{
 "cells": [
  {
   "cell_type": "code",
   "execution_count": 1,
   "metadata": {
    "collapsed": true,
    "pycharm": {
     "name": "#%%\n"
    }
   },
   "outputs": [],
   "source": [
    "from sklearn.model_selection import train_test_split\n",
    "from sklearn import preprocessing, metrics, tree\n",
    "import pandas as pd\n",
    "from sklearn.metrics import classification_report\n",
    "import json"
   ]
  },
  {
   "cell_type": "code",
   "execution_count": 2,
   "outputs": [],
   "source": [
    "with open('news_all_text.json') as file:\n",
    "    file = json.load(file)"
   ],
   "metadata": {
    "collapsed": false,
    "pycharm": {
     "name": "#%%\n"
    }
   }
  },
  {
   "cell_type": "code",
   "execution_count": 3,
   "outputs": [],
   "source": [
    "def set_data_frame_of_news(file, default_categories = {'استان ها', 'ورزشی', 'سیاسی', 'علمی پزشکی', 'شهروند خبرنگار'}):\n",
    "    contents = []\n",
    "    labels = []\n",
    "    count = 0\n",
    "    for data in file:\n",
    "        count += 1\n",
    "        if 'content' in data and 'categories' in data:\n",
    "            intersection = default_categories.intersection(set(data['categories']))\n",
    "            if len(intersection) != 0:\n",
    "                labels.append(list(intersection)[0])\n",
    "            else:\n",
    "                continue\n",
    "            contents.append(data['content'])\n",
    "        if count > 9000:\n",
    "            break\n",
    "    df = pd.DataFrame({\n",
    "        'contents': contents,\n",
    "        'labels': labels\n",
    "    })\n",
    "    return df"
   ],
   "metadata": {
    "collapsed": false,
    "pycharm": {
     "name": "#%%\n"
    }
   }
  },
  {
   "cell_type": "code",
   "execution_count": 4,
   "outputs": [],
   "source": [
    "df = set_data_frame_of_news(file)"
   ],
   "metadata": {
    "collapsed": false,
    "pycharm": {
     "name": "#%%\n"
    }
   }
  },
  {
   "cell_type": "code",
   "execution_count": 5,
   "outputs": [],
   "source": [
    "le = preprocessing.LabelEncoder()"
   ],
   "metadata": {
    "collapsed": false,
    "pycharm": {
     "name": "#%%\n"
    }
   }
  },
  {
   "cell_type": "code",
   "execution_count": 6,
   "outputs": [
    {
     "data": {
      "text/plain": "                                               contents    labels  v_labels\n0     روزنامه پیام ما با انتخاب تیتر \" جدال جاده و ج...  استان ها         0\n1     مرثیه ای بر ای میراث اصفها ن در روزنامه زاینده...  استان ها         0\n2     صبح امروز روزنامه خبر با تیتر « افراد گرفتار ف...  استان ها         0\n3     روزنامه خبر جنوب با تیتر \" چه کسی زیر میز می‌ز...  استان ها         0\n4     منطقه سبزوار با اب هوای خشک و نیمه خشک ، در کن...  استان ها         0\n...                                                 ...       ...       ...\n4932  در حالی که رقابت‌های لیگ ملت‌های والیبال 2022 ...     ورزشی         4\n4933  اخبار حاشیه‌ای ورزش ایران و جهان ، مورخ 23 خرد...     ورزشی         4\n4934  اردوی تیم ملی کشتی فرنگی از روز گذشته ( یکشنبه...     ورزشی         4\n4935  به گزارش خبرگزاری فرانسه اتحادیه تنیس بازان حر...     ورزشی         4\n4936  محمد پولادگر در مجمع سالیانه فدراسیون تنیس گفت...     ورزشی         4\n\n[4937 rows x 3 columns]",
      "text/html": "<div>\n<style scoped>\n    .dataframe tbody tr th:only-of-type {\n        vertical-align: middle;\n    }\n\n    .dataframe tbody tr th {\n        vertical-align: top;\n    }\n\n    .dataframe thead th {\n        text-align: right;\n    }\n</style>\n<table border=\"1\" class=\"dataframe\">\n  <thead>\n    <tr style=\"text-align: right;\">\n      <th></th>\n      <th>contents</th>\n      <th>labels</th>\n      <th>v_labels</th>\n    </tr>\n  </thead>\n  <tbody>\n    <tr>\n      <th>0</th>\n      <td>روزنامه پیام ما با انتخاب تیتر \" جدال جاده و ج...</td>\n      <td>استان ها</td>\n      <td>0</td>\n    </tr>\n    <tr>\n      <th>1</th>\n      <td>مرثیه ای بر ای میراث اصفها ن در روزنامه زاینده...</td>\n      <td>استان ها</td>\n      <td>0</td>\n    </tr>\n    <tr>\n      <th>2</th>\n      <td>صبح امروز روزنامه خبر با تیتر « افراد گرفتار ف...</td>\n      <td>استان ها</td>\n      <td>0</td>\n    </tr>\n    <tr>\n      <th>3</th>\n      <td>روزنامه خبر جنوب با تیتر \" چه کسی زیر میز می‌ز...</td>\n      <td>استان ها</td>\n      <td>0</td>\n    </tr>\n    <tr>\n      <th>4</th>\n      <td>منطقه سبزوار با اب هوای خشک و نیمه خشک ، در کن...</td>\n      <td>استان ها</td>\n      <td>0</td>\n    </tr>\n    <tr>\n      <th>...</th>\n      <td>...</td>\n      <td>...</td>\n      <td>...</td>\n    </tr>\n    <tr>\n      <th>4932</th>\n      <td>در حالی که رقابت‌های لیگ ملت‌های والیبال 2022 ...</td>\n      <td>ورزشی</td>\n      <td>4</td>\n    </tr>\n    <tr>\n      <th>4933</th>\n      <td>اخبار حاشیه‌ای ورزش ایران و جهان ، مورخ 23 خرد...</td>\n      <td>ورزشی</td>\n      <td>4</td>\n    </tr>\n    <tr>\n      <th>4934</th>\n      <td>اردوی تیم ملی کشتی فرنگی از روز گذشته ( یکشنبه...</td>\n      <td>ورزشی</td>\n      <td>4</td>\n    </tr>\n    <tr>\n      <th>4935</th>\n      <td>به گزارش خبرگزاری فرانسه اتحادیه تنیس بازان حر...</td>\n      <td>ورزشی</td>\n      <td>4</td>\n    </tr>\n    <tr>\n      <th>4936</th>\n      <td>محمد پولادگر در مجمع سالیانه فدراسیون تنیس گفت...</td>\n      <td>ورزشی</td>\n      <td>4</td>\n    </tr>\n  </tbody>\n</table>\n<p>4937 rows × 3 columns</p>\n</div>"
     },
     "execution_count": 6,
     "metadata": {},
     "output_type": "execute_result"
    }
   ],
   "source": [
    "df['v_labels'] = le.fit_transform(df['labels'])\n",
    "df"
   ],
   "metadata": {
    "collapsed": false,
    "pycharm": {
     "name": "#%%\n"
    }
   }
  },
  {
   "cell_type": "code",
   "execution_count": 8,
   "outputs": [],
   "source": [
    "from sklearn.feature_extraction.text import CountVectorizer"
   ],
   "metadata": {
    "collapsed": false,
    "pycharm": {
     "name": "#%%\n"
    }
   }
  },
  {
   "cell_type": "code",
   "execution_count": 9,
   "outputs": [
    {
     "data": {
      "text/plain": "array([[0, 0, 0, ..., 0, 0, 0],\n       [0, 0, 0, ..., 0, 0, 0],\n       [0, 0, 0, ..., 0, 0, 0],\n       ...,\n       [0, 0, 0, ..., 0, 0, 0],\n       [0, 0, 0, ..., 0, 0, 0],\n       [0, 0, 0, ..., 0, 0, 0]])"
     },
     "execution_count": 9,
     "metadata": {},
     "output_type": "execute_result"
    }
   ],
   "source": [
    "cv = CountVectorizer()\n",
    "bow = cv.fit_transform(df['contents']).toarray()\n",
    "bow"
   ],
   "metadata": {
    "collapsed": false,
    "pycharm": {
     "name": "#%%\n"
    }
   }
  },
  {
   "cell_type": "code",
   "execution_count": 10,
   "outputs": [],
   "source": [
    "from sklearn.feature_extraction.text import TfidfVectorizer"
   ],
   "metadata": {
    "collapsed": false,
    "pycharm": {
     "name": "#%%\n"
    }
   }
  },
  {
   "cell_type": "code",
   "execution_count": 11,
   "outputs": [],
   "source": [
    "tf = TfidfVectorizer()\n",
    "tfidf = tf.fit_transform(df['contents']).toarray()"
   ],
   "metadata": {
    "collapsed": false,
    "pycharm": {
     "name": "#%%\n"
    }
   }
  },
  {
   "cell_type": "code",
   "execution_count": 12,
   "outputs": [],
   "source": [
    "from sklearn.model_selection import train_test_split\n",
    "x_train, x_test, y_train, y_test = train_test_split(bow, df['labels'], test_size=0.3, random_state=0)"
   ],
   "metadata": {
    "collapsed": false,
    "pycharm": {
     "name": "#%%\n"
    }
   }
  },
  {
   "cell_type": "code",
   "execution_count": 18,
   "outputs": [],
   "source": [
    "from sklearn.naive_bayes import GaussianNB\n",
    "from sklearn import metrics, tree\n",
    "\n",
    "# nb_model = GaussianNB()\n",
    "nb_model = tree.DecisionTreeClassifier()\n"
   ],
   "metadata": {
    "collapsed": false,
    "pycharm": {
     "name": "#%%\n"
    }
   }
  },
  {
   "cell_type": "code",
   "execution_count": 19,
   "outputs": [],
   "source": [
    "nb_model.fit(x_train, y_train)\n",
    "y_pred = nb_model.predict(x_test)"
   ],
   "metadata": {
    "collapsed": false,
    "pycharm": {
     "name": "#%%\n"
    }
   }
  },
  {
   "cell_type": "code",
   "execution_count": 20,
   "outputs": [
    {
     "name": "stdout",
     "output_type": "stream",
     "text": [
      "Accuracy: 0.9770580296896086\n",
      "                precision    recall  f1-score   support\n",
      "\n",
      "      استان ها       0.97      0.94      0.96       272\n",
      "         سیاسی       0.96      0.97      0.96       311\n",
      "شهروند خبرنگار       0.99      1.00      0.99       288\n",
      "    علمی پزشکی       0.99      0.98      0.98       306\n",
      "         ورزشی       0.98      1.00      0.99       305\n",
      "\n",
      "      accuracy                           0.98      1482\n",
      "     macro avg       0.98      0.98      0.98      1482\n",
      "  weighted avg       0.98      0.98      0.98      1482\n",
      "\n"
     ]
    }
   ],
   "source": [
    "from sklearn.metrics import classification_report\n",
    "\n",
    "print('Accuracy:', metrics.accuracy_score(y_test, y_pred))\n",
    "\n",
    "print(classification_report(y_test, y_pred))"
   ],
   "metadata": {
    "collapsed": false,
    "pycharm": {
     "name": "#%%\n"
    }
   }
  }
 ],
 "metadata": {
  "kernelspec": {
   "display_name": "Python 3",
   "language": "python",
   "name": "python3"
  },
  "language_info": {
   "codemirror_mode": {
    "name": "ipython",
    "version": 2
   },
   "file_extension": ".py",
   "mimetype": "text/x-python",
   "name": "python",
   "nbconvert_exporter": "python",
   "pygments_lexer": "ipython2",
   "version": "2.7.6"
  }
 },
 "nbformat": 4,
 "nbformat_minor": 0
}