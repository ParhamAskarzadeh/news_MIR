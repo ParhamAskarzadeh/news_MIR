{
 "cells": [
  {
   "cell_type": "code",
   "execution_count": null,
   "outputs": [],
   "source": [
    "from elasticsearch import Elasticsearch\n",
    "import json"
   ],
   "metadata": {
    "collapsed": false,
    "pycharm": {
     "name": "#%%\n"
    }
   }
  },
  {
   "cell_type": "markdown",
   "source": [
    "ابتدا از سایت خود الستیک یک کلود تهیه میکنیم\n",
    "سپس با استفاده از یوزرنیم و پسورد و همچنین ایدی که دراختیار ما قرار میدهد به کلود وصل میشویم\n",
    "\n",
    "داده های خود را در ان اینسرت میکنیم\n",
    "\n",
    "و در اخر هر نوع سرچ مورد نیاز را در ان میتوانیم انجام دهیم\n",
    "\n"
   ],
   "metadata": {
    "collapsed": false
   }
  },
  {
   "cell_type": "code",
   "execution_count": null,
   "outputs": [],
   "source": [
    "class Elastic:\n",
    "    # def insert_doc(self):\n",
    "    #     with open('../news_all_text.json') as file:\n",
    "    #         file = json.load(file)\n",
    "    #\n",
    "    #     for doc in file:\n",
    "    #         resp = es.index(index=\"news\", document=doc)\n",
    "\n",
    "    def search(self, query):\n",
    "        # connect ro elastic cloud\n",
    "        es = Elasticsearch(\n",
    "            cloud_id=\"MIR:dXMtY2VudHJhbDEuZ2NwLmNsb3VkLmVzLmlvOjQ0MyRhZTE5ZTA0Y2Y0NzQ0ZGJjYWUwYWRjYzUyMTM2NjRiNiQyODYxNGYwYzA0YTI0ZTBiOTM4YjA5NDZhMDBhMWY1Yg==\",\n",
    "            basic_auth=(\"elastic\", \"aSCfulV1AA2RqwkG3Jju4FKL\"))\n",
    "        # search in elastic\n",
    "        resp = es.search(index=\"news\", query={\n",
    "            \"match_phrase\": {\n",
    "                \"content\": query\n",
    "            }\n",
    "        })\n",
    "        # show result of search\n",
    "        result = []\n",
    "        for hit in resp['hits']['hits']:\n",
    "            result.append({\n",
    "                'title': hit['_source']['title'],\n",
    "                'url': hit['_source']['url']\n",
    "            })\n",
    "        return result\n"
   ],
   "metadata": {
    "collapsed": false,
    "pycharm": {
     "name": "#%%\n"
    }
   }
  }
 ],
 "metadata": {
  "kernelspec": {
   "display_name": "Python 3",
   "language": "python",
   "name": "python3"
  },
  "language_info": {
   "codemirror_mode": {
    "name": "ipython",
    "version": 2
   },
   "file_extension": ".py",
   "mimetype": "text/x-python",
   "name": "python",
   "nbconvert_exporter": "python",
   "pygments_lexer": "ipython2",
   "version": "2.7.6"
  }
 },
 "nbformat": 4,
 "nbformat_minor": 0
}